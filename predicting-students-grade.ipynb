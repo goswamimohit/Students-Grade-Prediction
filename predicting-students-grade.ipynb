{
 "cells": [
  {
   "cell_type": "code",
   "execution_count": 1,
   "id": "960798d1",
   "metadata": {
    "_cell_guid": "b1076dfc-b9ad-4769-8c92-a6c4dae69d19",
    "_uuid": "8f2839f25d086af736a60e9eeb907d3b93b6e0e5",
    "execution": {
     "iopub.execute_input": "2022-02-15T13:20:44.177675Z",
     "iopub.status.busy": "2022-02-15T13:20:44.176981Z",
     "iopub.status.idle": "2022-02-15T13:20:45.634184Z",
     "shell.execute_reply": "2022-02-15T13:20:45.634737Z",
     "shell.execute_reply.started": "2022-02-15T10:32:31.844387Z"
    },
    "papermill": {
     "duration": 1.562476,
     "end_time": "2022-02-15T13:20:45.635138",
     "exception": false,
     "start_time": "2022-02-15T13:20:44.072662",
     "status": "completed"
    },
    "tags": []
   },
   "outputs": [
    {
     "name": "stdout",
     "output_type": "stream",
     "text": [
      "/kaggle/input/student-performance-data-set/student/student-mat.csv\n",
      "/kaggle/input/student-performance-data-set/student/student-por.csv\n",
      "/kaggle/input/student-performance-data-set/student/student.txt\n"
     ]
    }
   ],
   "source": [
    "# This Python 3 environment comes with many helpful analytics libraries installed\n",
    "# It is defined by the kaggle/python Docker image: https://github.com/kaggle/docker-python\n",
    "# For example, here's several helpful packages to load\n",
    "\n",
    "import numpy as np # linear algebra\n",
    "import pandas as pd # data processing, CSV file I/O (e.g. pd.read_csv)\n",
    "import matplotlib.pyplot as plt\n",
    "import seaborn as sns\n",
    "from sklearn.model_selection import train_test_split\n",
    "from sklearn.base import BaseEstimator, TransformerMixin\n",
    "from sklearn.preprocessing import OneHotEncoder, MinMaxScaler\n",
    "from sklearn.impute import SimpleImputer\n",
    "from sklearn.pipeline import Pipeline, FeatureUnion\n",
    "from sklearn.compose import ColumnTransformer\n",
    "from sklearn.linear_model import LinearRegression\n",
    "from sklearn.metrics import mean_absolute_error\n",
    "from sklearn.metrics import r2_score\n",
    "from sklearn.ensemble import RandomForestRegressor\n",
    "# Input data files are available in the read-only \"../input/\" directory\n",
    "# For example, running this (by clicking run or pressing Shift+Enter) will list all files under the input directory\n",
    "\n",
    "import os\n",
    "for dirname, _, filenames in os.walk('/kaggle/input'):\n",
    "    for filename in filenames:\n",
    "        print(os.path.join(dirname, filename))\n",
    "\n",
    "# You can write up to 20GB to the current directory (/kaggle/working/) that gets preserved as output when you create a version using \"Save & Run All\" \n",
    "# You can also write temporary files to /kaggle/temp/, but they won't be saved outside of the current session"
   ]
  },
  {
   "cell_type": "code",
   "execution_count": 2,
   "id": "058d2da6",
   "metadata": {
    "execution": {
     "iopub.execute_input": "2022-02-15T13:20:45.820870Z",
     "iopub.status.busy": "2022-02-15T13:20:45.820184Z",
     "iopub.status.idle": "2022-02-15T13:20:45.830534Z",
     "shell.execute_reply": "2022-02-15T13:20:45.831098Z",
     "shell.execute_reply.started": "2022-02-15T09:26:48.919123Z"
    },
    "papermill": {
     "duration": 0.105093,
     "end_time": "2022-02-15T13:20:45.831303",
     "exception": false,
     "start_time": "2022-02-15T13:20:45.726210",
     "status": "completed"
    },
    "tags": []
   },
   "outputs": [],
   "source": [
    "import missingno as msno"
   ]
  },
  {
   "cell_type": "markdown",
   "id": "4d557f6f",
   "metadata": {
    "papermill": {
     "duration": 0.092439,
     "end_time": "2022-02-15T13:20:46.015891",
     "exception": false,
     "start_time": "2022-02-15T13:20:45.923452",
     "status": "completed"
    },
    "tags": []
   },
   "source": [
    "<img src=\"https://i.pinimg.com/736x/17/75/e5/1775e59bbb98def37bc34bc7fceeb8db.jpg\" width=\"1100\">"
   ]
  },
  {
   "cell_type": "markdown",
   "id": "97115812",
   "metadata": {
    "papermill": {
     "duration": 0.087626,
     "end_time": "2022-02-15T13:20:46.193824",
     "exception": false,
     "start_time": "2022-02-15T13:20:46.106198",
     "status": "completed"
    },
    "tags": []
   },
   "source": [
    "# Introduction"
   ]
  },
  {
   "cell_type": "markdown",
   "id": "f465fdbc",
   "metadata": {
    "papermill": {
     "duration": 0.087758,
     "end_time": "2022-02-15T13:20:46.369605",
     "exception": false,
     "start_time": "2022-02-15T13:20:46.281847",
     "status": "completed"
    },
    "tags": []
   },
   "source": [
    "# Students Performance Dataset\n",
    "\n",
    "    This data approaches student achievement in secondary education of two Portuguese schools. The data attributes include student grades, demographic, social and school related features) and it was collected by using school reports and questionnaires. Two datasets are provided regarding the performance in two distinct subjects: Mathematics (mat) and Portuguese language (por).\n",
    "\n",
    "# Source: \n",
    "Downloads (uminho.pt)\n",
    "\n",
    "\n",
    "\n"
   ]
  },
  {
   "cell_type": "markdown",
   "id": "d0a4d2a8",
   "metadata": {
    "papermill": {
     "duration": 0.088031,
     "end_time": "2022-02-15T13:20:46.545985",
     "exception": false,
     "start_time": "2022-02-15T13:20:46.457954",
     "status": "completed"
    },
    "tags": []
   },
   "source": [
    "# Attributes for both student: \n",
    "\n",
    "    - mat.csv (Math course) and student: por.csv (Portuguese language course) datasets:\n",
    "\n",
    "    1.\tschool :  student's school (binary: \"GP\" :  Gabriel Pereira or \"MS\" :  Mousinho da Silveira)\n",
    "    2.\tsex :  student's sex (binary: \"F\" :  female or \"M\" :  male)\n",
    "    3.\tage :  student's age (numeric: from 15 to 22)\n",
    "    4.\taddress :  student's home address type (binary: \"U\" :  urban or \"R\" :  rural)\n",
    "    5.\tfamsize :  family size (binary: \"LE3\" :  less or equal to 3 or \"GT3\" :  greater than 3)\n",
    "    6.\tPstatus :  parent's cohabitation status (binary: \"T\" :  living together or \"A\" :  apart)\n",
    "    7.\tMedu :  mother's education (numeric: 0 :  none,  1 :  primary education (4th grade), 2 : 5th to 9th grade, 3 : secondary education or 4: higher education)\n",
    "    8.\tFedu :  father's education (numeric: 0 :  none,  1 :  primary education (4th grade), 2 : 5th to 9th grade, 3 : secondary education or 4 : higher education)\n",
    "    9.\tMjob :  mother's job (nominal: \"teacher\", \"health\" care related, civil \"services\" (e.g. administrative or police), \"at_home\" or \"other\")\n",
    "    10.\tFjob :  father's job (nominal: \"teacher\", \"health\" care related, civil \"services\" (e.g. administrative or police), \"at_home\" or \"other\")\n",
    "    11.\treason :  reason to choose this school (nominal: close to \"home\", school \"reputation\", \"course\" preference or \"other\")\n",
    "    12.\tguardian :  student's guardian (nominal: \"mother\", \"father\" or \"other\")\n",
    "    13.\ttraveltime :  home to school travel time (numeric: 1 :  <15 min., 2 :  15 to 30 min., 3 :  30 min. to 1 hour, or 4 :  >1 hour)\n",
    "    14.\tstudytime :  weekly study time (numeric: 1 :  <2 hours, 2 :  2 to 5 hours, 3 :  5 to 10 hours, or 4 :  >10 hours)\n",
    "    15.\tfailures :  number of past class failures (numeric: n if 1<=n<3, else 4)\n",
    "    16.\tschoolsup :  extra educational support (binary: yes or no)\n",
    "    17.\tfamsup :  family educational support (binary: yes or no)\n",
    "    18.\tpaid :  extra paid classes within the course subject (Math or Portuguese) (binary: yes or no)\n",
    "    19.\tactivities :  extra: curricular activities (binary: yes or no)\n",
    "    20.\tnursery :  attended nursery school (binary: yes or no)\n",
    "    21.\thigher :  wants to take higher education (binary: yes or no)\n",
    "    22.\tinternet :  Internet access at home (binary: yes or no)\n",
    "    23.\tromantic :  with a romantic relationship (binary: yes or no)\n",
    "    24.\tfamrel :  quality of family relationships (numeric: from 1 :  very bad to 5 :  excellent)\n",
    "    25.\tfreetime :  free time after school (numeric: from 1 :  very low to 5 :  very high)\n",
    "    26.\tgoout :  going out with friends (numeric: from 1 :  very low to 5 :  very high)\n",
    "    27.\tDalc :  workday alcohol consumption (numeric: from 1 :  very low to 5 :  very high)\n",
    "    28.\tWalc :  weekend alcohol consumption (numeric: from 1 :  very low to 5 :  very high)\n",
    "    29.\thealth :  current health status (numeric: from 1 :  very bad to 5 :  very good)\n",
    "    30.\tabsences :  number of school absences (numeric: from 0 to 93)\n",
    "\n",
    "    Grade attributes:\n",
    "    31.\tG1 :  first period grade (numeric: from 0 to 20)\n",
    "    32.\tG2 :  second period grade (numeric: from 0 to 20)\n",
    "    33.\tG3 :  final grade (numeric: from 0 to 20, output target)"
   ]
  },
  {
   "cell_type": "markdown",
   "id": "77489dd5",
   "metadata": {
    "papermill": {
     "duration": 0.087287,
     "end_time": "2022-02-15T13:20:46.721100",
     "exception": false,
     "start_time": "2022-02-15T13:20:46.633813",
     "status": "completed"
    },
    "tags": []
   },
   "source": [
    "# Reading File \n",
    "\n",
    "### -with help of pandas - using seprator - ';'"
   ]
  },
  {
   "cell_type": "code",
   "execution_count": 3,
   "id": "0b00f100",
   "metadata": {
    "execution": {
     "iopub.execute_input": "2022-02-15T13:20:46.901417Z",
     "iopub.status.busy": "2022-02-15T13:20:46.900691Z",
     "iopub.status.idle": "2022-02-15T13:20:46.933224Z",
     "shell.execute_reply": "2022-02-15T13:20:46.933788Z",
     "shell.execute_reply.started": "2022-02-15T10:32:39.428144Z"
    },
    "papermill": {
     "duration": 0.124797,
     "end_time": "2022-02-15T13:20:46.934008",
     "exception": false,
     "start_time": "2022-02-15T13:20:46.809211",
     "status": "completed"
    },
    "tags": []
   },
   "outputs": [],
   "source": [
    "df_mat =pd.read_csv('/kaggle/input/student-performance-data-set/student/student-mat.csv',sep=';')\n",
    "df_por =pd.read_csv('/kaggle/input/student-performance-data-set/student/student-por.csv',sep=';')"
   ]
  },
  {
   "cell_type": "code",
   "execution_count": null,
   "id": "71ee6894",
   "metadata": {
    "papermill": {
     "duration": 0.089637,
     "end_time": "2022-02-15T13:20:47.113299",
     "exception": false,
     "start_time": "2022-02-15T13:20:47.023662",
     "status": "completed"
    },
    "tags": []
   },
   "outputs": [],
   "source": []
  },
  {
   "cell_type": "markdown",
   "id": "1bf132c0",
   "metadata": {
    "papermill": {
     "duration": 0.097616,
     "end_time": "2022-02-15T13:20:47.317105",
     "exception": false,
     "start_time": "2022-02-15T13:20:47.219489",
     "status": "completed"
    },
    "tags": []
   },
   "source": [
    "# Intial Inspecting of both files"
   ]
  },
  {
   "cell_type": "code",
   "execution_count": 4,
   "id": "5e5255a5",
   "metadata": {
    "execution": {
     "iopub.execute_input": "2022-02-15T13:20:47.544607Z",
     "iopub.status.busy": "2022-02-15T13:20:47.543563Z",
     "iopub.status.idle": "2022-02-15T13:20:47.580264Z",
     "shell.execute_reply": "2022-02-15T13:20:47.580935Z",
     "shell.execute_reply.started": "2022-02-15T06:50:55.291941Z"
    },
    "papermill": {
     "duration": 0.140467,
     "end_time": "2022-02-15T13:20:47.581130",
     "exception": false,
     "start_time": "2022-02-15T13:20:47.440663",
     "status": "completed"
    },
    "tags": []
   },
   "outputs": [
    {
     "data": {
      "text/html": [
       "<div>\n",
       "<style scoped>\n",
       "    .dataframe tbody tr th:only-of-type {\n",
       "        vertical-align: middle;\n",
       "    }\n",
       "\n",
       "    .dataframe tbody tr th {\n",
       "        vertical-align: top;\n",
       "    }\n",
       "\n",
       "    .dataframe thead th {\n",
       "        text-align: right;\n",
       "    }\n",
       "</style>\n",
       "<table border=\"1\" class=\"dataframe\">\n",
       "  <thead>\n",
       "    <tr style=\"text-align: right;\">\n",
       "      <th></th>\n",
       "      <th>school</th>\n",
       "      <th>sex</th>\n",
       "      <th>age</th>\n",
       "      <th>address</th>\n",
       "      <th>famsize</th>\n",
       "      <th>Pstatus</th>\n",
       "      <th>Medu</th>\n",
       "      <th>Fedu</th>\n",
       "      <th>Mjob</th>\n",
       "      <th>Fjob</th>\n",
       "      <th>...</th>\n",
       "      <th>famrel</th>\n",
       "      <th>freetime</th>\n",
       "      <th>goout</th>\n",
       "      <th>Dalc</th>\n",
       "      <th>Walc</th>\n",
       "      <th>health</th>\n",
       "      <th>absences</th>\n",
       "      <th>G1</th>\n",
       "      <th>G2</th>\n",
       "      <th>G3</th>\n",
       "    </tr>\n",
       "  </thead>\n",
       "  <tbody>\n",
       "    <tr>\n",
       "      <th>0</th>\n",
       "      <td>GP</td>\n",
       "      <td>F</td>\n",
       "      <td>18</td>\n",
       "      <td>U</td>\n",
       "      <td>GT3</td>\n",
       "      <td>A</td>\n",
       "      <td>4</td>\n",
       "      <td>4</td>\n",
       "      <td>at_home</td>\n",
       "      <td>teacher</td>\n",
       "      <td>...</td>\n",
       "      <td>4</td>\n",
       "      <td>3</td>\n",
       "      <td>4</td>\n",
       "      <td>1</td>\n",
       "      <td>1</td>\n",
       "      <td>3</td>\n",
       "      <td>6</td>\n",
       "      <td>5</td>\n",
       "      <td>6</td>\n",
       "      <td>6</td>\n",
       "    </tr>\n",
       "    <tr>\n",
       "      <th>1</th>\n",
       "      <td>GP</td>\n",
       "      <td>F</td>\n",
       "      <td>17</td>\n",
       "      <td>U</td>\n",
       "      <td>GT3</td>\n",
       "      <td>T</td>\n",
       "      <td>1</td>\n",
       "      <td>1</td>\n",
       "      <td>at_home</td>\n",
       "      <td>other</td>\n",
       "      <td>...</td>\n",
       "      <td>5</td>\n",
       "      <td>3</td>\n",
       "      <td>3</td>\n",
       "      <td>1</td>\n",
       "      <td>1</td>\n",
       "      <td>3</td>\n",
       "      <td>4</td>\n",
       "      <td>5</td>\n",
       "      <td>5</td>\n",
       "      <td>6</td>\n",
       "    </tr>\n",
       "    <tr>\n",
       "      <th>2</th>\n",
       "      <td>GP</td>\n",
       "      <td>F</td>\n",
       "      <td>15</td>\n",
       "      <td>U</td>\n",
       "      <td>LE3</td>\n",
       "      <td>T</td>\n",
       "      <td>1</td>\n",
       "      <td>1</td>\n",
       "      <td>at_home</td>\n",
       "      <td>other</td>\n",
       "      <td>...</td>\n",
       "      <td>4</td>\n",
       "      <td>3</td>\n",
       "      <td>2</td>\n",
       "      <td>2</td>\n",
       "      <td>3</td>\n",
       "      <td>3</td>\n",
       "      <td>10</td>\n",
       "      <td>7</td>\n",
       "      <td>8</td>\n",
       "      <td>10</td>\n",
       "    </tr>\n",
       "    <tr>\n",
       "      <th>3</th>\n",
       "      <td>GP</td>\n",
       "      <td>F</td>\n",
       "      <td>15</td>\n",
       "      <td>U</td>\n",
       "      <td>GT3</td>\n",
       "      <td>T</td>\n",
       "      <td>4</td>\n",
       "      <td>2</td>\n",
       "      <td>health</td>\n",
       "      <td>services</td>\n",
       "      <td>...</td>\n",
       "      <td>3</td>\n",
       "      <td>2</td>\n",
       "      <td>2</td>\n",
       "      <td>1</td>\n",
       "      <td>1</td>\n",
       "      <td>5</td>\n",
       "      <td>2</td>\n",
       "      <td>15</td>\n",
       "      <td>14</td>\n",
       "      <td>15</td>\n",
       "    </tr>\n",
       "    <tr>\n",
       "      <th>4</th>\n",
       "      <td>GP</td>\n",
       "      <td>F</td>\n",
       "      <td>16</td>\n",
       "      <td>U</td>\n",
       "      <td>GT3</td>\n",
       "      <td>T</td>\n",
       "      <td>3</td>\n",
       "      <td>3</td>\n",
       "      <td>other</td>\n",
       "      <td>other</td>\n",
       "      <td>...</td>\n",
       "      <td>4</td>\n",
       "      <td>3</td>\n",
       "      <td>2</td>\n",
       "      <td>1</td>\n",
       "      <td>2</td>\n",
       "      <td>5</td>\n",
       "      <td>4</td>\n",
       "      <td>6</td>\n",
       "      <td>10</td>\n",
       "      <td>10</td>\n",
       "    </tr>\n",
       "  </tbody>\n",
       "</table>\n",
       "<p>5 rows × 33 columns</p>\n",
       "</div>"
      ],
      "text/plain": [
       "  school sex  age address famsize Pstatus  Medu  Fedu     Mjob      Fjob  ...  \\\n",
       "0     GP   F   18       U     GT3       A     4     4  at_home   teacher  ...   \n",
       "1     GP   F   17       U     GT3       T     1     1  at_home     other  ...   \n",
       "2     GP   F   15       U     LE3       T     1     1  at_home     other  ...   \n",
       "3     GP   F   15       U     GT3       T     4     2   health  services  ...   \n",
       "4     GP   F   16       U     GT3       T     3     3    other     other  ...   \n",
       "\n",
       "  famrel freetime  goout  Dalc  Walc health absences  G1  G2  G3  \n",
       "0      4        3      4     1     1      3        6   5   6   6  \n",
       "1      5        3      3     1     1      3        4   5   5   6  \n",
       "2      4        3      2     2     3      3       10   7   8  10  \n",
       "3      3        2      2     1     1      5        2  15  14  15  \n",
       "4      4        3      2     1     2      5        4   6  10  10  \n",
       "\n",
       "[5 rows x 33 columns]"
      ]
     },
     "execution_count": 4,
     "metadata": {},
     "output_type": "execute_result"
    }
   ],
   "source": [
    "df_mat.head()"
   ]
  },
  {
   "cell_type": "code",
   "execution_count": 5,
   "id": "0076f934",
   "metadata": {
    "execution": {
     "iopub.execute_input": "2022-02-15T13:20:47.769582Z",
     "iopub.status.busy": "2022-02-15T13:20:47.768601Z",
     "iopub.status.idle": "2022-02-15T13:20:47.790133Z",
     "shell.execute_reply": "2022-02-15T13:20:47.789559Z",
     "shell.execute_reply.started": "2022-02-15T06:51:04.167040Z"
    },
    "papermill": {
     "duration": 0.114708,
     "end_time": "2022-02-15T13:20:47.790287",
     "exception": false,
     "start_time": "2022-02-15T13:20:47.675579",
     "status": "completed"
    },
    "tags": []
   },
   "outputs": [
    {
     "data": {
      "text/html": [
       "<div>\n",
       "<style scoped>\n",
       "    .dataframe tbody tr th:only-of-type {\n",
       "        vertical-align: middle;\n",
       "    }\n",
       "\n",
       "    .dataframe tbody tr th {\n",
       "        vertical-align: top;\n",
       "    }\n",
       "\n",
       "    .dataframe thead th {\n",
       "        text-align: right;\n",
       "    }\n",
       "</style>\n",
       "<table border=\"1\" class=\"dataframe\">\n",
       "  <thead>\n",
       "    <tr style=\"text-align: right;\">\n",
       "      <th></th>\n",
       "      <th>school</th>\n",
       "      <th>sex</th>\n",
       "      <th>age</th>\n",
       "      <th>address</th>\n",
       "      <th>famsize</th>\n",
       "      <th>Pstatus</th>\n",
       "      <th>Medu</th>\n",
       "      <th>Fedu</th>\n",
       "      <th>Mjob</th>\n",
       "      <th>Fjob</th>\n",
       "      <th>...</th>\n",
       "      <th>famrel</th>\n",
       "      <th>freetime</th>\n",
       "      <th>goout</th>\n",
       "      <th>Dalc</th>\n",
       "      <th>Walc</th>\n",
       "      <th>health</th>\n",
       "      <th>absences</th>\n",
       "      <th>G1</th>\n",
       "      <th>G2</th>\n",
       "      <th>G3</th>\n",
       "    </tr>\n",
       "  </thead>\n",
       "  <tbody>\n",
       "    <tr>\n",
       "      <th>0</th>\n",
       "      <td>GP</td>\n",
       "      <td>F</td>\n",
       "      <td>18</td>\n",
       "      <td>U</td>\n",
       "      <td>GT3</td>\n",
       "      <td>A</td>\n",
       "      <td>4</td>\n",
       "      <td>4</td>\n",
       "      <td>at_home</td>\n",
       "      <td>teacher</td>\n",
       "      <td>...</td>\n",
       "      <td>4</td>\n",
       "      <td>3</td>\n",
       "      <td>4</td>\n",
       "      <td>1</td>\n",
       "      <td>1</td>\n",
       "      <td>3</td>\n",
       "      <td>4</td>\n",
       "      <td>0</td>\n",
       "      <td>11</td>\n",
       "      <td>11</td>\n",
       "    </tr>\n",
       "    <tr>\n",
       "      <th>1</th>\n",
       "      <td>GP</td>\n",
       "      <td>F</td>\n",
       "      <td>17</td>\n",
       "      <td>U</td>\n",
       "      <td>GT3</td>\n",
       "      <td>T</td>\n",
       "      <td>1</td>\n",
       "      <td>1</td>\n",
       "      <td>at_home</td>\n",
       "      <td>other</td>\n",
       "      <td>...</td>\n",
       "      <td>5</td>\n",
       "      <td>3</td>\n",
       "      <td>3</td>\n",
       "      <td>1</td>\n",
       "      <td>1</td>\n",
       "      <td>3</td>\n",
       "      <td>2</td>\n",
       "      <td>9</td>\n",
       "      <td>11</td>\n",
       "      <td>11</td>\n",
       "    </tr>\n",
       "    <tr>\n",
       "      <th>2</th>\n",
       "      <td>GP</td>\n",
       "      <td>F</td>\n",
       "      <td>15</td>\n",
       "      <td>U</td>\n",
       "      <td>LE3</td>\n",
       "      <td>T</td>\n",
       "      <td>1</td>\n",
       "      <td>1</td>\n",
       "      <td>at_home</td>\n",
       "      <td>other</td>\n",
       "      <td>...</td>\n",
       "      <td>4</td>\n",
       "      <td>3</td>\n",
       "      <td>2</td>\n",
       "      <td>2</td>\n",
       "      <td>3</td>\n",
       "      <td>3</td>\n",
       "      <td>6</td>\n",
       "      <td>12</td>\n",
       "      <td>13</td>\n",
       "      <td>12</td>\n",
       "    </tr>\n",
       "    <tr>\n",
       "      <th>3</th>\n",
       "      <td>GP</td>\n",
       "      <td>F</td>\n",
       "      <td>15</td>\n",
       "      <td>U</td>\n",
       "      <td>GT3</td>\n",
       "      <td>T</td>\n",
       "      <td>4</td>\n",
       "      <td>2</td>\n",
       "      <td>health</td>\n",
       "      <td>services</td>\n",
       "      <td>...</td>\n",
       "      <td>3</td>\n",
       "      <td>2</td>\n",
       "      <td>2</td>\n",
       "      <td>1</td>\n",
       "      <td>1</td>\n",
       "      <td>5</td>\n",
       "      <td>0</td>\n",
       "      <td>14</td>\n",
       "      <td>14</td>\n",
       "      <td>14</td>\n",
       "    </tr>\n",
       "    <tr>\n",
       "      <th>4</th>\n",
       "      <td>GP</td>\n",
       "      <td>F</td>\n",
       "      <td>16</td>\n",
       "      <td>U</td>\n",
       "      <td>GT3</td>\n",
       "      <td>T</td>\n",
       "      <td>3</td>\n",
       "      <td>3</td>\n",
       "      <td>other</td>\n",
       "      <td>other</td>\n",
       "      <td>...</td>\n",
       "      <td>4</td>\n",
       "      <td>3</td>\n",
       "      <td>2</td>\n",
       "      <td>1</td>\n",
       "      <td>2</td>\n",
       "      <td>5</td>\n",
       "      <td>0</td>\n",
       "      <td>11</td>\n",
       "      <td>13</td>\n",
       "      <td>13</td>\n",
       "    </tr>\n",
       "  </tbody>\n",
       "</table>\n",
       "<p>5 rows × 33 columns</p>\n",
       "</div>"
      ],
      "text/plain": [
       "  school sex  age address famsize Pstatus  Medu  Fedu     Mjob      Fjob  ...  \\\n",
       "0     GP   F   18       U     GT3       A     4     4  at_home   teacher  ...   \n",
       "1     GP   F   17       U     GT3       T     1     1  at_home     other  ...   \n",
       "2     GP   F   15       U     LE3       T     1     1  at_home     other  ...   \n",
       "3     GP   F   15       U     GT3       T     4     2   health  services  ...   \n",
       "4     GP   F   16       U     GT3       T     3     3    other     other  ...   \n",
       "\n",
       "  famrel freetime  goout  Dalc  Walc health absences  G1  G2  G3  \n",
       "0      4        3      4     1     1      3        4   0  11  11  \n",
       "1      5        3      3     1     1      3        2   9  11  11  \n",
       "2      4        3      2     2     3      3        6  12  13  12  \n",
       "3      3        2      2     1     1      5        0  14  14  14  \n",
       "4      4        3      2     1     2      5        0  11  13  13  \n",
       "\n",
       "[5 rows x 33 columns]"
      ]
     },
     "execution_count": 5,
     "metadata": {},
     "output_type": "execute_result"
    }
   ],
   "source": [
    "df_por.head()"
   ]
  },
  {
   "cell_type": "markdown",
   "id": "f048628f",
   "metadata": {
    "papermill": {
     "duration": 0.09358,
     "end_time": "2022-02-15T13:20:47.975213",
     "exception": false,
     "start_time": "2022-02-15T13:20:47.881633",
     "status": "completed"
    },
    "tags": []
   },
   "source": [
    "# Merging of both datframes into one"
   ]
  },
  {
   "cell_type": "code",
   "execution_count": 6,
   "id": "fcadb128",
   "metadata": {
    "execution": {
     "iopub.execute_input": "2022-02-15T13:20:48.163700Z",
     "iopub.status.busy": "2022-02-15T13:20:48.162270Z",
     "iopub.status.idle": "2022-02-15T13:20:48.167475Z",
     "shell.execute_reply": "2022-02-15T13:20:48.166886Z",
     "shell.execute_reply.started": "2022-02-15T10:32:44.860483Z"
    },
    "papermill": {
     "duration": 0.102633,
     "end_time": "2022-02-15T13:20:48.167619",
     "exception": false,
     "start_time": "2022-02-15T13:20:48.064986",
     "status": "completed"
    },
    "tags": []
   },
   "outputs": [],
   "source": [
    "df=pd.concat([df_mat, df_por], ignore_index=True)"
   ]
  },
  {
   "cell_type": "markdown",
   "id": "c24bd587",
   "metadata": {
    "papermill": {
     "duration": 0.088355,
     "end_time": "2022-02-15T13:20:48.345538",
     "exception": false,
     "start_time": "2022-02-15T13:20:48.257183",
     "status": "completed"
    },
    "tags": []
   },
   "source": [
    "# Inspecting of final dataframe"
   ]
  },
  {
   "cell_type": "code",
   "execution_count": 7,
   "id": "090bba2a",
   "metadata": {
    "execution": {
     "iopub.execute_input": "2022-02-15T13:20:48.530726Z",
     "iopub.status.busy": "2022-02-15T13:20:48.529646Z",
     "iopub.status.idle": "2022-02-15T13:20:48.595297Z",
     "shell.execute_reply": "2022-02-15T13:20:48.595771Z",
     "shell.execute_reply.started": "2022-02-15T07:00:24.228662Z"
    },
    "papermill": {
     "duration": 0.159856,
     "end_time": "2022-02-15T13:20:48.595974",
     "exception": false,
     "start_time": "2022-02-15T13:20:48.436118",
     "status": "completed"
    },
    "tags": []
   },
   "outputs": [
    {
     "name": "stdout",
     "output_type": "stream",
     "text": [
      "\n",
      "\n",
      "Number of row and columns in df --------------------------------------------------------------------------------\n"
     ]
    },
    {
     "data": {
      "text/plain": [
       "(1044, 33)"
      ]
     },
     "metadata": {},
     "output_type": "display_data"
    },
    {
     "name": "stdout",
     "output_type": "stream",
     "text": [
      "\n",
      "\n",
      "\n",
      "\n",
      "First five row of df --------------------------------------------------------------------------------\n"
     ]
    },
    {
     "data": {
      "text/html": [
       "<div>\n",
       "<style scoped>\n",
       "    .dataframe tbody tr th:only-of-type {\n",
       "        vertical-align: middle;\n",
       "    }\n",
       "\n",
       "    .dataframe tbody tr th {\n",
       "        vertical-align: top;\n",
       "    }\n",
       "\n",
       "    .dataframe thead th {\n",
       "        text-align: right;\n",
       "    }\n",
       "</style>\n",
       "<table border=\"1\" class=\"dataframe\">\n",
       "  <thead>\n",
       "    <tr style=\"text-align: right;\">\n",
       "      <th></th>\n",
       "      <th>school</th>\n",
       "      <th>sex</th>\n",
       "      <th>age</th>\n",
       "      <th>address</th>\n",
       "      <th>famsize</th>\n",
       "      <th>Pstatus</th>\n",
       "      <th>Medu</th>\n",
       "      <th>Fedu</th>\n",
       "      <th>Mjob</th>\n",
       "      <th>Fjob</th>\n",
       "      <th>...</th>\n",
       "      <th>famrel</th>\n",
       "      <th>freetime</th>\n",
       "      <th>goout</th>\n",
       "      <th>Dalc</th>\n",
       "      <th>Walc</th>\n",
       "      <th>health</th>\n",
       "      <th>absences</th>\n",
       "      <th>G1</th>\n",
       "      <th>G2</th>\n",
       "      <th>G3</th>\n",
       "    </tr>\n",
       "  </thead>\n",
       "  <tbody>\n",
       "    <tr>\n",
       "      <th>0</th>\n",
       "      <td>GP</td>\n",
       "      <td>F</td>\n",
       "      <td>18</td>\n",
       "      <td>U</td>\n",
       "      <td>GT3</td>\n",
       "      <td>A</td>\n",
       "      <td>4</td>\n",
       "      <td>4</td>\n",
       "      <td>at_home</td>\n",
       "      <td>teacher</td>\n",
       "      <td>...</td>\n",
       "      <td>4</td>\n",
       "      <td>3</td>\n",
       "      <td>4</td>\n",
       "      <td>1</td>\n",
       "      <td>1</td>\n",
       "      <td>3</td>\n",
       "      <td>6</td>\n",
       "      <td>5</td>\n",
       "      <td>6</td>\n",
       "      <td>6</td>\n",
       "    </tr>\n",
       "    <tr>\n",
       "      <th>1</th>\n",
       "      <td>GP</td>\n",
       "      <td>F</td>\n",
       "      <td>17</td>\n",
       "      <td>U</td>\n",
       "      <td>GT3</td>\n",
       "      <td>T</td>\n",
       "      <td>1</td>\n",
       "      <td>1</td>\n",
       "      <td>at_home</td>\n",
       "      <td>other</td>\n",
       "      <td>...</td>\n",
       "      <td>5</td>\n",
       "      <td>3</td>\n",
       "      <td>3</td>\n",
       "      <td>1</td>\n",
       "      <td>1</td>\n",
       "      <td>3</td>\n",
       "      <td>4</td>\n",
       "      <td>5</td>\n",
       "      <td>5</td>\n",
       "      <td>6</td>\n",
       "    </tr>\n",
       "    <tr>\n",
       "      <th>2</th>\n",
       "      <td>GP</td>\n",
       "      <td>F</td>\n",
       "      <td>15</td>\n",
       "      <td>U</td>\n",
       "      <td>LE3</td>\n",
       "      <td>T</td>\n",
       "      <td>1</td>\n",
       "      <td>1</td>\n",
       "      <td>at_home</td>\n",
       "      <td>other</td>\n",
       "      <td>...</td>\n",
       "      <td>4</td>\n",
       "      <td>3</td>\n",
       "      <td>2</td>\n",
       "      <td>2</td>\n",
       "      <td>3</td>\n",
       "      <td>3</td>\n",
       "      <td>10</td>\n",
       "      <td>7</td>\n",
       "      <td>8</td>\n",
       "      <td>10</td>\n",
       "    </tr>\n",
       "    <tr>\n",
       "      <th>3</th>\n",
       "      <td>GP</td>\n",
       "      <td>F</td>\n",
       "      <td>15</td>\n",
       "      <td>U</td>\n",
       "      <td>GT3</td>\n",
       "      <td>T</td>\n",
       "      <td>4</td>\n",
       "      <td>2</td>\n",
       "      <td>health</td>\n",
       "      <td>services</td>\n",
       "      <td>...</td>\n",
       "      <td>3</td>\n",
       "      <td>2</td>\n",
       "      <td>2</td>\n",
       "      <td>1</td>\n",
       "      <td>1</td>\n",
       "      <td>5</td>\n",
       "      <td>2</td>\n",
       "      <td>15</td>\n",
       "      <td>14</td>\n",
       "      <td>15</td>\n",
       "    </tr>\n",
       "    <tr>\n",
       "      <th>4</th>\n",
       "      <td>GP</td>\n",
       "      <td>F</td>\n",
       "      <td>16</td>\n",
       "      <td>U</td>\n",
       "      <td>GT3</td>\n",
       "      <td>T</td>\n",
       "      <td>3</td>\n",
       "      <td>3</td>\n",
       "      <td>other</td>\n",
       "      <td>other</td>\n",
       "      <td>...</td>\n",
       "      <td>4</td>\n",
       "      <td>3</td>\n",
       "      <td>2</td>\n",
       "      <td>1</td>\n",
       "      <td>2</td>\n",
       "      <td>5</td>\n",
       "      <td>4</td>\n",
       "      <td>6</td>\n",
       "      <td>10</td>\n",
       "      <td>10</td>\n",
       "    </tr>\n",
       "  </tbody>\n",
       "</table>\n",
       "<p>5 rows × 33 columns</p>\n",
       "</div>"
      ],
      "text/plain": [
       "  school sex  age address famsize Pstatus  Medu  Fedu     Mjob      Fjob  ...  \\\n",
       "0     GP   F   18       U     GT3       A     4     4  at_home   teacher  ...   \n",
       "1     GP   F   17       U     GT3       T     1     1  at_home     other  ...   \n",
       "2     GP   F   15       U     LE3       T     1     1  at_home     other  ...   \n",
       "3     GP   F   15       U     GT3       T     4     2   health  services  ...   \n",
       "4     GP   F   16       U     GT3       T     3     3    other     other  ...   \n",
       "\n",
       "  famrel freetime  goout  Dalc  Walc health absences  G1  G2  G3  \n",
       "0      4        3      4     1     1      3        6   5   6   6  \n",
       "1      5        3      3     1     1      3        4   5   5   6  \n",
       "2      4        3      2     2     3      3       10   7   8  10  \n",
       "3      3        2      2     1     1      5        2  15  14  15  \n",
       "4      4        3      2     1     2      5        4   6  10  10  \n",
       "\n",
       "[5 rows x 33 columns]"
      ]
     },
     "metadata": {},
     "output_type": "display_data"
    },
    {
     "name": "stdout",
     "output_type": "stream",
     "text": [
      "\n",
      "\n",
      "\n",
      "\n",
      "Last five row of df --------------------------------------------------------------------------------\n"
     ]
    },
    {
     "data": {
      "text/html": [
       "<div>\n",
       "<style scoped>\n",
       "    .dataframe tbody tr th:only-of-type {\n",
       "        vertical-align: middle;\n",
       "    }\n",
       "\n",
       "    .dataframe tbody tr th {\n",
       "        vertical-align: top;\n",
       "    }\n",
       "\n",
       "    .dataframe thead th {\n",
       "        text-align: right;\n",
       "    }\n",
       "</style>\n",
       "<table border=\"1\" class=\"dataframe\">\n",
       "  <thead>\n",
       "    <tr style=\"text-align: right;\">\n",
       "      <th></th>\n",
       "      <th>school</th>\n",
       "      <th>sex</th>\n",
       "      <th>age</th>\n",
       "      <th>address</th>\n",
       "      <th>famsize</th>\n",
       "      <th>Pstatus</th>\n",
       "      <th>Medu</th>\n",
       "      <th>Fedu</th>\n",
       "      <th>Mjob</th>\n",
       "      <th>Fjob</th>\n",
       "      <th>...</th>\n",
       "      <th>famrel</th>\n",
       "      <th>freetime</th>\n",
       "      <th>goout</th>\n",
       "      <th>Dalc</th>\n",
       "      <th>Walc</th>\n",
       "      <th>health</th>\n",
       "      <th>absences</th>\n",
       "      <th>G1</th>\n",
       "      <th>G2</th>\n",
       "      <th>G3</th>\n",
       "    </tr>\n",
       "  </thead>\n",
       "  <tbody>\n",
       "    <tr>\n",
       "      <th>1039</th>\n",
       "      <td>MS</td>\n",
       "      <td>F</td>\n",
       "      <td>19</td>\n",
       "      <td>R</td>\n",
       "      <td>GT3</td>\n",
       "      <td>T</td>\n",
       "      <td>2</td>\n",
       "      <td>3</td>\n",
       "      <td>services</td>\n",
       "      <td>other</td>\n",
       "      <td>...</td>\n",
       "      <td>5</td>\n",
       "      <td>4</td>\n",
       "      <td>2</td>\n",
       "      <td>1</td>\n",
       "      <td>2</td>\n",
       "      <td>5</td>\n",
       "      <td>4</td>\n",
       "      <td>10</td>\n",
       "      <td>11</td>\n",
       "      <td>10</td>\n",
       "    </tr>\n",
       "    <tr>\n",
       "      <th>1040</th>\n",
       "      <td>MS</td>\n",
       "      <td>F</td>\n",
       "      <td>18</td>\n",
       "      <td>U</td>\n",
       "      <td>LE3</td>\n",
       "      <td>T</td>\n",
       "      <td>3</td>\n",
       "      <td>1</td>\n",
       "      <td>teacher</td>\n",
       "      <td>services</td>\n",
       "      <td>...</td>\n",
       "      <td>4</td>\n",
       "      <td>3</td>\n",
       "      <td>4</td>\n",
       "      <td>1</td>\n",
       "      <td>1</td>\n",
       "      <td>1</td>\n",
       "      <td>4</td>\n",
       "      <td>15</td>\n",
       "      <td>15</td>\n",
       "      <td>16</td>\n",
       "    </tr>\n",
       "    <tr>\n",
       "      <th>1041</th>\n",
       "      <td>MS</td>\n",
       "      <td>F</td>\n",
       "      <td>18</td>\n",
       "      <td>U</td>\n",
       "      <td>GT3</td>\n",
       "      <td>T</td>\n",
       "      <td>1</td>\n",
       "      <td>1</td>\n",
       "      <td>other</td>\n",
       "      <td>other</td>\n",
       "      <td>...</td>\n",
       "      <td>1</td>\n",
       "      <td>1</td>\n",
       "      <td>1</td>\n",
       "      <td>1</td>\n",
       "      <td>1</td>\n",
       "      <td>5</td>\n",
       "      <td>6</td>\n",
       "      <td>11</td>\n",
       "      <td>12</td>\n",
       "      <td>9</td>\n",
       "    </tr>\n",
       "    <tr>\n",
       "      <th>1042</th>\n",
       "      <td>MS</td>\n",
       "      <td>M</td>\n",
       "      <td>17</td>\n",
       "      <td>U</td>\n",
       "      <td>LE3</td>\n",
       "      <td>T</td>\n",
       "      <td>3</td>\n",
       "      <td>1</td>\n",
       "      <td>services</td>\n",
       "      <td>services</td>\n",
       "      <td>...</td>\n",
       "      <td>2</td>\n",
       "      <td>4</td>\n",
       "      <td>5</td>\n",
       "      <td>3</td>\n",
       "      <td>4</td>\n",
       "      <td>2</td>\n",
       "      <td>6</td>\n",
       "      <td>10</td>\n",
       "      <td>10</td>\n",
       "      <td>10</td>\n",
       "    </tr>\n",
       "    <tr>\n",
       "      <th>1043</th>\n",
       "      <td>MS</td>\n",
       "      <td>M</td>\n",
       "      <td>18</td>\n",
       "      <td>R</td>\n",
       "      <td>LE3</td>\n",
       "      <td>T</td>\n",
       "      <td>3</td>\n",
       "      <td>2</td>\n",
       "      <td>services</td>\n",
       "      <td>other</td>\n",
       "      <td>...</td>\n",
       "      <td>4</td>\n",
       "      <td>4</td>\n",
       "      <td>1</td>\n",
       "      <td>3</td>\n",
       "      <td>4</td>\n",
       "      <td>5</td>\n",
       "      <td>4</td>\n",
       "      <td>10</td>\n",
       "      <td>11</td>\n",
       "      <td>11</td>\n",
       "    </tr>\n",
       "  </tbody>\n",
       "</table>\n",
       "<p>5 rows × 33 columns</p>\n",
       "</div>"
      ],
      "text/plain": [
       "     school sex  age address famsize Pstatus  Medu  Fedu      Mjob      Fjob  \\\n",
       "1039     MS   F   19       R     GT3       T     2     3  services     other   \n",
       "1040     MS   F   18       U     LE3       T     3     1   teacher  services   \n",
       "1041     MS   F   18       U     GT3       T     1     1     other     other   \n",
       "1042     MS   M   17       U     LE3       T     3     1  services  services   \n",
       "1043     MS   M   18       R     LE3       T     3     2  services     other   \n",
       "\n",
       "      ... famrel freetime  goout  Dalc  Walc health absences  G1  G2  G3  \n",
       "1039  ...      5        4      2     1     2      5        4  10  11  10  \n",
       "1040  ...      4        3      4     1     1      1        4  15  15  16  \n",
       "1041  ...      1        1      1     1     1      5        6  11  12   9  \n",
       "1042  ...      2        4      5     3     4      2        6  10  10  10  \n",
       "1043  ...      4        4      1     3     4      5        4  10  11  11  \n",
       "\n",
       "[5 rows x 33 columns]"
      ]
     },
     "metadata": {},
     "output_type": "display_data"
    },
    {
     "name": "stdout",
     "output_type": "stream",
     "text": [
      "\n",
      "\n",
      "\n",
      "\n",
      "data type  of each values in df --------------------------------------------------------------------------------\n"
     ]
    },
    {
     "data": {
      "text/plain": [
       "school        object\n",
       "sex           object\n",
       "age            int64\n",
       "address       object\n",
       "famsize       object\n",
       "Pstatus       object\n",
       "Medu           int64\n",
       "Fedu           int64\n",
       "Mjob          object\n",
       "Fjob          object\n",
       "reason        object\n",
       "guardian      object\n",
       "traveltime     int64\n",
       "studytime      int64\n",
       "failures       int64\n",
       "schoolsup     object\n",
       "famsup        object\n",
       "paid          object\n",
       "activities    object\n",
       "nursery       object\n",
       "higher        object\n",
       "internet      object\n",
       "romantic      object\n",
       "famrel         int64\n",
       "freetime       int64\n",
       "goout          int64\n",
       "Dalc           int64\n",
       "Walc           int64\n",
       "health         int64\n",
       "absences       int64\n",
       "G1             int64\n",
       "G2             int64\n",
       "G3             int64\n",
       "dtype: object"
      ]
     },
     "metadata": {},
     "output_type": "display_data"
    },
    {
     "name": "stdout",
     "output_type": "stream",
     "text": [
      "\n",
      "\n",
      "\n",
      "\n",
      "Null values in df --------------------------------------------------------------------------------\n"
     ]
    },
    {
     "data": {
      "text/plain": [
       "school        0\n",
       "sex           0\n",
       "age           0\n",
       "address       0\n",
       "famsize       0\n",
       "Pstatus       0\n",
       "Medu          0\n",
       "Fedu          0\n",
       "Mjob          0\n",
       "Fjob          0\n",
       "reason        0\n",
       "guardian      0\n",
       "traveltime    0\n",
       "studytime     0\n",
       "failures      0\n",
       "schoolsup     0\n",
       "famsup        0\n",
       "paid          0\n",
       "activities    0\n",
       "nursery       0\n",
       "higher        0\n",
       "internet      0\n",
       "romantic      0\n",
       "famrel        0\n",
       "freetime      0\n",
       "goout         0\n",
       "Dalc          0\n",
       "Walc          0\n",
       "health        0\n",
       "absences      0\n",
       "G1            0\n",
       "G2            0\n",
       "G3            0\n",
       "dtype: int64"
      ]
     },
     "metadata": {},
     "output_type": "display_data"
    },
    {
     "name": "stdout",
     "output_type": "stream",
     "text": [
      "\n",
      "\n"
     ]
    }
   ],
   "source": [
    "print('\\n')\n",
    "print(\"Number of row and columns in df\",\"-\"*80)\n",
    "display(df.shape)\n",
    "print('\\n')\n",
    "print('\\n')\n",
    "print(\"First five row of df\",\"-\"*80)\n",
    "display(df.head())\n",
    "print('\\n')\n",
    "print('\\n')\n",
    "print(\"Last five row of df\",\"-\"*80)\n",
    "display(df.tail())\n",
    "print('\\n')\n",
    "print('\\n')\n",
    "print(\"data type  of each values in df\",\"-\"*80)\n",
    "display(df.dtypes)\n",
    "print('\\n')\n",
    "print('\\n')\n",
    "print(\"Null values in df\",\"-\"*80)\n",
    "display(df.isnull().sum())\n",
    "print('\\n')"
   ]
  },
  {
   "cell_type": "code",
   "execution_count": 8,
   "id": "bb67e8b8",
   "metadata": {
    "execution": {
     "iopub.execute_input": "2022-02-15T13:20:48.793383Z",
     "iopub.status.busy": "2022-02-15T13:20:48.792367Z",
     "iopub.status.idle": "2022-02-15T13:20:51.928302Z",
     "shell.execute_reply": "2022-02-15T13:20:51.928820Z",
     "shell.execute_reply.started": "2022-02-15T06:54:51.062196Z"
    },
    "papermill": {
     "duration": 3.238864,
     "end_time": "2022-02-15T13:20:51.929030",
     "exception": false,
     "start_time": "2022-02-15T13:20:48.690166",
     "status": "completed"
    },
    "tags": []
   },
   "outputs": [
    {
     "data": {
      "image/png": "[encoded data removed]",
      "text/plain": [
       "<Figure size 1728x720 with 3 Axes>"
      ]
     },
     "metadata": {
      "needs_background": "light"
     },
     "output_type": "display_data"
    }
   ],
   "source": [
    "msno.bar(df);"
   ]
  },
  {
   "cell_type": "markdown",
   "id": "c9b6130f",
   "metadata": {
    "papermill": {
     "duration": 0.097075,
     "end_time": "2022-02-15T13:20:52.125144",
     "exception": false,
     "start_time": "2022-02-15T13:20:52.028069",
     "status": "completed"
    },
    "tags": []
   },
   "source": [
    "## Chaging dtype into category"
   ]
  },
  {
   "cell_type": "code",
   "execution_count": 9,
   "id": "c1e266b7",
   "metadata": {
    "execution": {
     "iopub.execute_input": "2022-02-15T13:20:52.324251Z",
     "iopub.status.busy": "2022-02-15T13:20:52.323277Z",
     "iopub.status.idle": "2022-02-15T13:20:52.350357Z",
     "shell.execute_reply": "2022-02-15T13:20:52.350882Z",
     "shell.execute_reply.started": "2022-02-15T10:32:57.856245Z"
    },
    "papermill": {
     "duration": 0.128162,
     "end_time": "2022-02-15T13:20:52.351103",
     "exception": false,
     "start_time": "2022-02-15T13:20:52.222941",
     "status": "completed"
    },
    "tags": []
   },
   "outputs": [],
   "source": [
    "for col in['school', 'sex', 'address', 'famsize', 'Pstatus', 'Medu', 'Fedu',\n",
    "       'Mjob', 'Fjob', 'reason', 'guardian', 'traveltime', 'studytime',\n",
    "       'failures', 'schoolsup', 'famsup', 'paid', 'activities', 'nursery',\n",
    "       'higher', 'internet', 'romantic', 'famrel', 'freetime', 'goout', 'Dalc',\n",
    "       'Walc', 'health']:\n",
    "    df[col] = df[col].astype('category')"
   ]
  },
  {
   "cell_type": "code",
   "execution_count": 10,
   "id": "8a7406f2",
   "metadata": {
    "execution": {
     "iopub.execute_input": "2022-02-15T13:20:52.550572Z",
     "iopub.status.busy": "2022-02-15T13:20:52.549867Z",
     "iopub.status.idle": "2022-02-15T13:20:52.579444Z",
     "shell.execute_reply": "2022-02-15T13:20:52.580022Z",
     "shell.execute_reply.started": "2022-02-15T07:07:45.862015Z"
    },
    "papermill": {
     "duration": 0.131912,
     "end_time": "2022-02-15T13:20:52.580196",
     "exception": false,
     "start_time": "2022-02-15T13:20:52.448284",
     "status": "completed"
    },
    "tags": []
   },
   "outputs": [
    {
     "name": "stdout",
     "output_type": "stream",
     "text": [
      "<class 'pandas.core.frame.DataFrame'>\n",
      "RangeIndex: 1044 entries, 0 to 1043\n",
      "Data columns (total 33 columns):\n",
      " #   Column      Non-Null Count  Dtype   \n",
      "---  ------      --------------  -----   \n",
      " 0   school      1044 non-null   category\n",
      " 1   sex         1044 non-null   category\n",
      " 2   age         1044 non-null   int64   \n",
      " 3   address     1044 non-null   category\n",
      " 4   famsize     1044 non-null   category\n",
      " 5   Pstatus     1044 non-null   category\n",
      " 6   Medu        1044 non-null   category\n",
      " 7   Fedu        1044 non-null   category\n",
      " 8   Mjob        1044 non-null   category\n",
      " 9   Fjob        1044 non-null   category\n",
      " 10  reason      1044 non-null   category\n",
      " 11  guardian    1044 non-null   category\n",
      " 12  traveltime  1044 non-null   category\n",
      " 13  studytime   1044 non-null   category\n",
      " 14  failures    1044 non-null   category\n",
      " 15  schoolsup   1044 non-null   category\n",
      " 16  famsup      1044 non-null   category\n",
      " 17  paid        1044 non-null   category\n",
      " 18  activities  1044 non-null   category\n",
      " 19  nursery     1044 non-null   category\n",
      " 20  higher      1044 non-null   category\n",
      " 21  internet    1044 non-null   category\n",
      " 22  romantic    1044 non-null   category\n",
      " 23  famrel      1044 non-null   category\n",
      " 24  freetime    1044 non-null   category\n",
      " 25  goout       1044 non-null   category\n",
      " 26  Dalc        1044 non-null   category\n",
      " 27  Walc        1044 non-null   category\n",
      " 28  health      1044 non-null   category\n",
      " 29  absences    1044 non-null   int64   \n",
      " 30  G1          1044 non-null   int64   \n",
      " 31  G2          1044 non-null   int64   \n",
      " 32  G3          1044 non-null   int64   \n",
      "dtypes: category(28), int64(5)\n",
      "memory usage: 74.0 KB\n"
     ]
    }
   ],
   "source": [
    "df.info()"
   ]
  },
  {
   "cell_type": "code",
   "execution_count": 11,
   "id": "d8049282",
   "metadata": {
    "execution": {
     "iopub.execute_input": "2022-02-15T13:20:52.779339Z",
     "iopub.status.busy": "2022-02-15T13:20:52.778702Z",
     "iopub.status.idle": "2022-02-15T13:20:52.827293Z",
     "shell.execute_reply": "2022-02-15T13:20:52.827894Z",
     "shell.execute_reply.started": "2022-02-15T07:53:18.748243Z"
    },
    "papermill": {
     "duration": 0.151323,
     "end_time": "2022-02-15T13:20:52.828182",
     "exception": false,
     "start_time": "2022-02-15T13:20:52.676859",
     "status": "completed"
    },
    "tags": []
   },
   "outputs": [
    {
     "name": "stdout",
     "output_type": "stream",
     "text": [
      "GP    772\n",
      "MS    272\n",
      "Name: school, dtype: int64\n",
      "\n",
      "\n",
      "F    591\n",
      "M    453\n",
      "Name: sex, dtype: int64\n",
      "\n",
      "\n",
      "U    759\n",
      "R    285\n",
      "Name: address, dtype: int64\n",
      "\n",
      "\n",
      "GT3    738\n",
      "LE3    306\n",
      "Name: famsize, dtype: int64\n",
      "\n",
      "\n",
      "T    923\n",
      "A    121\n",
      "Name: Pstatus, dtype: int64\n",
      "\n",
      "\n",
      "4    306\n",
      "2    289\n",
      "3    238\n",
      "1    202\n",
      "0      9\n",
      "Name: Medu, dtype: int64\n",
      "\n",
      "\n",
      "2    324\n",
      "1    256\n",
      "3    231\n",
      "4    224\n",
      "0      9\n",
      "Name: Fedu, dtype: int64\n",
      "\n",
      "\n",
      "other       399\n",
      "services    239\n",
      "at_home     194\n",
      "teacher     130\n",
      "health       82\n",
      "Name: Mjob, dtype: int64\n",
      "\n",
      "\n",
      "other       584\n",
      "services    292\n",
      "teacher      65\n",
      "at_home      62\n",
      "health       41\n",
      "Name: Fjob, dtype: int64\n",
      "\n",
      "\n",
      "course        430\n",
      "home          258\n",
      "reputation    248\n",
      "other         108\n",
      "Name: reason, dtype: int64\n",
      "\n",
      "\n",
      "mother    728\n",
      "father    243\n",
      "other      73\n",
      "Name: guardian, dtype: int64\n",
      "\n",
      "\n",
      "1    623\n",
      "2    320\n",
      "3     77\n",
      "4     24\n",
      "Name: traveltime, dtype: int64\n",
      "\n",
      "\n",
      "2    503\n",
      "1    317\n",
      "3    162\n",
      "4     62\n",
      "Name: studytime, dtype: int64\n",
      "\n",
      "\n",
      "0    861\n",
      "1    120\n",
      "2     33\n",
      "3     30\n",
      "Name: failures, dtype: int64\n",
      "\n",
      "\n",
      "no     925\n",
      "yes    119\n",
      "Name: schoolsup, dtype: int64\n",
      "\n",
      "\n",
      "yes    640\n",
      "no     404\n",
      "Name: famsup, dtype: int64\n",
      "\n",
      "\n",
      "no     824\n",
      "yes    220\n",
      "Name: paid, dtype: int64\n",
      "\n",
      "\n",
      "no     528\n",
      "yes    516\n",
      "Name: activities, dtype: int64\n",
      "\n",
      "\n",
      "yes    835\n",
      "no     209\n",
      "Name: nursery, dtype: int64\n",
      "\n",
      "\n",
      "yes    955\n",
      "no      89\n",
      "Name: higher, dtype: int64\n",
      "\n",
      "\n",
      "yes    827\n",
      "no     217\n",
      "Name: internet, dtype: int64\n",
      "\n",
      "\n",
      "no     673\n",
      "yes    371\n",
      "Name: romantic, dtype: int64\n",
      "\n",
      "\n",
      "4    512\n",
      "5    286\n",
      "3    169\n",
      "2     47\n",
      "1     30\n",
      "Name: famrel, dtype: int64\n",
      "\n",
      "\n",
      "3    408\n",
      "4    293\n",
      "2    171\n",
      "5    108\n",
      "1     64\n",
      "Name: freetime, dtype: int64\n",
      "\n",
      "\n",
      "3    335\n",
      "2    248\n",
      "4    227\n",
      "5    163\n",
      "1     71\n",
      "Name: goout, dtype: int64\n",
      "\n",
      "\n",
      "1    727\n",
      "2    196\n",
      "3     69\n",
      "4     26\n",
      "5     26\n",
      "Name: Dalc, dtype: int64\n",
      "\n",
      "\n",
      "1    398\n",
      "2    235\n",
      "3    200\n",
      "4    138\n",
      "5     73\n",
      "Name: Walc, dtype: int64\n",
      "\n",
      "\n",
      "5    395\n",
      "3    215\n",
      "4    174\n",
      "1    137\n",
      "2    123\n",
      "Name: health, dtype: int64\n",
      "\n",
      "\n"
     ]
    }
   ],
   "source": [
    "result = df.select_dtypes(include='category')\n",
    "for i in result:\n",
    "    print(result[i].value_counts())\n",
    "    print('\\n')"
   ]
  },
  {
   "cell_type": "markdown",
   "id": "676d9dbb",
   "metadata": {
    "papermill": {
     "duration": 0.099583,
     "end_time": "2022-02-15T13:20:53.029340",
     "exception": false,
     "start_time": "2022-02-15T13:20:52.929757",
     "status": "completed"
    },
    "tags": []
   },
   "source": [
    "# Five point data summaries "
   ]
  },
  {
   "cell_type": "code",
   "execution_count": 12,
   "id": "b583de30",
   "metadata": {
    "execution": {
     "iopub.execute_input": "2022-02-15T13:20:53.231936Z",
     "iopub.status.busy": "2022-02-15T13:20:53.230881Z",
     "iopub.status.idle": "2022-02-15T13:20:53.320522Z",
     "shell.execute_reply": "2022-02-15T13:20:53.319805Z",
     "shell.execute_reply.started": "2022-02-15T13:05:30.375264Z"
    },
    "papermill": {
     "duration": 0.191403,
     "end_time": "2022-02-15T13:20:53.320674",
     "exception": false,
     "start_time": "2022-02-15T13:20:53.129271",
     "status": "completed"
    },
    "tags": []
   },
   "outputs": [
    {
     "data": {
      "text/html": [
       "<div>\n",
       "<style scoped>\n",
       "    .dataframe tbody tr th:only-of-type {\n",
       "        vertical-align: middle;\n",
       "    }\n",
       "\n",
       "    .dataframe tbody tr th {\n",
       "        vertical-align: top;\n",
       "    }\n",
       "\n",
       "    .dataframe thead th {\n",
       "        text-align: right;\n",
       "    }\n",
       "</style>\n",
       "<table border=\"1\" class=\"dataframe\">\n",
       "  <thead>\n",
       "    <tr style=\"text-align: right;\">\n",
       "      <th></th>\n",
       "      <th>count</th>\n",
       "      <th>unique</th>\n",
       "      <th>top</th>\n",
       "      <th>freq</th>\n",
       "      <th>mean</th>\n",
       "      <th>std</th>\n",
       "      <th>min</th>\n",
       "      <th>25%</th>\n",
       "      <th>50%</th>\n",
       "      <th>75%</th>\n",
       "      <th>max</th>\n",
       "    </tr>\n",
       "  </thead>\n",
       "  <tbody>\n",
       "    <tr>\n",
       "      <th>school</th>\n",
       "      <td>1044</td>\n",
       "      <td>2</td>\n",
       "      <td>GP</td>\n",
       "      <td>772</td>\n",
       "      <td>NaN</td>\n",
       "      <td>NaN</td>\n",
       "      <td>NaN</td>\n",
       "      <td>NaN</td>\n",
       "      <td>NaN</td>\n",
       "      <td>NaN</td>\n",
       "      <td>NaN</td>\n",
       "    </tr>\n",
       "    <tr>\n",
       "      <th>sex</th>\n",
       "      <td>1044</td>\n",
       "      <td>2</td>\n",
       "      <td>F</td>\n",
       "      <td>591</td>\n",
       "      <td>NaN</td>\n",
       "      <td>NaN</td>\n",
       "      <td>NaN</td>\n",
       "      <td>NaN</td>\n",
       "      <td>NaN</td>\n",
       "      <td>NaN</td>\n",
       "      <td>NaN</td>\n",
       "    </tr>\n",
       "    <tr>\n",
       "      <th>age</th>\n",
       "      <td>1044.0</td>\n",
       "      <td>NaN</td>\n",
       "      <td>NaN</td>\n",
       "      <td>NaN</td>\n",
       "      <td>17.0</td>\n",
       "      <td>1.0</td>\n",
       "      <td>15.0</td>\n",
       "      <td>16.0</td>\n",
       "      <td>17.0</td>\n",
       "      <td>18.0</td>\n",
       "      <td>22.0</td>\n",
       "    </tr>\n",
       "    <tr>\n",
       "      <th>address</th>\n",
       "      <td>1044</td>\n",
       "      <td>2</td>\n",
       "      <td>U</td>\n",
       "      <td>759</td>\n",
       "      <td>NaN</td>\n",
       "      <td>NaN</td>\n",
       "      <td>NaN</td>\n",
       "      <td>NaN</td>\n",
       "      <td>NaN</td>\n",
       "      <td>NaN</td>\n",
       "      <td>NaN</td>\n",
       "    </tr>\n",
       "    <tr>\n",
       "      <th>famsize</th>\n",
       "      <td>1044</td>\n",
       "      <td>2</td>\n",
       "      <td>GT3</td>\n",
       "      <td>738</td>\n",
       "      <td>NaN</td>\n",
       "      <td>NaN</td>\n",
       "      <td>NaN</td>\n",
       "      <td>NaN</td>\n",
       "      <td>NaN</td>\n",
       "      <td>NaN</td>\n",
       "      <td>NaN</td>\n",
       "    </tr>\n",
       "    <tr>\n",
       "      <th>Pstatus</th>\n",
       "      <td>1044</td>\n",
       "      <td>2</td>\n",
       "      <td>T</td>\n",
       "      <td>923</td>\n",
       "      <td>NaN</td>\n",
       "      <td>NaN</td>\n",
       "      <td>NaN</td>\n",
       "      <td>NaN</td>\n",
       "      <td>NaN</td>\n",
       "      <td>NaN</td>\n",
       "      <td>NaN</td>\n",
       "    </tr>\n",
       "    <tr>\n",
       "      <th>Medu</th>\n",
       "      <td>1044.0</td>\n",
       "      <td>5.0</td>\n",
       "      <td>4.0</td>\n",
       "      <td>306.0</td>\n",
       "      <td>NaN</td>\n",
       "      <td>NaN</td>\n",
       "      <td>NaN</td>\n",
       "      <td>NaN</td>\n",
       "      <td>NaN</td>\n",
       "      <td>NaN</td>\n",
       "      <td>NaN</td>\n",
       "    </tr>\n",
       "    <tr>\n",
       "      <th>Fedu</th>\n",
       "      <td>1044.0</td>\n",
       "      <td>5.0</td>\n",
       "      <td>2.0</td>\n",
       "      <td>324.0</td>\n",
       "      <td>NaN</td>\n",
       "      <td>NaN</td>\n",
       "      <td>NaN</td>\n",
       "      <td>NaN</td>\n",
       "      <td>NaN</td>\n",
       "      <td>NaN</td>\n",
       "      <td>NaN</td>\n",
       "    </tr>\n",
       "    <tr>\n",
       "      <th>Mjob</th>\n",
       "      <td>1044</td>\n",
       "      <td>5</td>\n",
       "      <td>other</td>\n",
       "      <td>399</td>\n",
       "      <td>NaN</td>\n",
       "      <td>NaN</td>\n",
       "      <td>NaN</td>\n",
       "      <td>NaN</td>\n",
       "      <td>NaN</td>\n",
       "      <td>NaN</td>\n",
       "      <td>NaN</td>\n",
       "    </tr>\n",
       "    <tr>\n",
       "      <th>Fjob</th>\n",
       "      <td>1044</td>\n",
       "      <td>5</td>\n",
       "      <td>other</td>\n",
       "      <td>584</td>\n",
       "      <td>NaN</td>\n",
       "      <td>NaN</td>\n",
       "      <td>NaN</td>\n",
       "      <td>NaN</td>\n",
       "      <td>NaN</td>\n",
       "      <td>NaN</td>\n",
       "      <td>NaN</td>\n",
       "    </tr>\n",
       "    <tr>\n",
       "      <th>reason</th>\n",
       "      <td>1044</td>\n",
       "      <td>4</td>\n",
       "      <td>course</td>\n",
       "      <td>430</td>\n",
       "      <td>NaN</td>\n",
       "      <td>NaN</td>\n",
       "      <td>NaN</td>\n",
       "      <td>NaN</td>\n",
       "      <td>NaN</td>\n",
       "      <td>NaN</td>\n",
       "      <td>NaN</td>\n",
       "    </tr>\n",
       "    <tr>\n",
       "      <th>guardian</th>\n",
       "      <td>1044</td>\n",
       "      <td>3</td>\n",
       "      <td>mother</td>\n",
       "      <td>728</td>\n",
       "      <td>NaN</td>\n",
       "      <td>NaN</td>\n",
       "      <td>NaN</td>\n",
       "      <td>NaN</td>\n",
       "      <td>NaN</td>\n",
       "      <td>NaN</td>\n",
       "      <td>NaN</td>\n",
       "    </tr>\n",
       "    <tr>\n",
       "      <th>traveltime</th>\n",
       "      <td>1044.0</td>\n",
       "      <td>4.0</td>\n",
       "      <td>1.0</td>\n",
       "      <td>623.0</td>\n",
       "      <td>NaN</td>\n",
       "      <td>NaN</td>\n",
       "      <td>NaN</td>\n",
       "      <td>NaN</td>\n",
       "      <td>NaN</td>\n",
       "      <td>NaN</td>\n",
       "      <td>NaN</td>\n",
       "    </tr>\n",
       "    <tr>\n",
       "      <th>studytime</th>\n",
       "      <td>1044.0</td>\n",
       "      <td>4.0</td>\n",
       "      <td>2.0</td>\n",
       "      <td>503.0</td>\n",
       "      <td>NaN</td>\n",
       "      <td>NaN</td>\n",
       "      <td>NaN</td>\n",
       "      <td>NaN</td>\n",
       "      <td>NaN</td>\n",
       "      <td>NaN</td>\n",
       "      <td>NaN</td>\n",
       "    </tr>\n",
       "    <tr>\n",
       "      <th>failures</th>\n",
       "      <td>1044.0</td>\n",
       "      <td>4.0</td>\n",
       "      <td>0.0</td>\n",
       "      <td>861.0</td>\n",
       "      <td>NaN</td>\n",
       "      <td>NaN</td>\n",
       "      <td>NaN</td>\n",
       "      <td>NaN</td>\n",
       "      <td>NaN</td>\n",
       "      <td>NaN</td>\n",
       "      <td>NaN</td>\n",
       "    </tr>\n",
       "    <tr>\n",
       "      <th>schoolsup</th>\n",
       "      <td>1044</td>\n",
       "      <td>2</td>\n",
       "      <td>no</td>\n",
       "      <td>925</td>\n",
       "      <td>NaN</td>\n",
       "      <td>NaN</td>\n",
       "      <td>NaN</td>\n",
       "      <td>NaN</td>\n",
       "      <td>NaN</td>\n",
       "      <td>NaN</td>\n",
       "      <td>NaN</td>\n",
       "    </tr>\n",
       "    <tr>\n",
       "      <th>famsup</th>\n",
       "      <td>1044</td>\n",
       "      <td>2</td>\n",
       "      <td>yes</td>\n",
       "      <td>640</td>\n",
       "      <td>NaN</td>\n",
       "      <td>NaN</td>\n",
       "      <td>NaN</td>\n",
       "      <td>NaN</td>\n",
       "      <td>NaN</td>\n",
       "      <td>NaN</td>\n",
       "      <td>NaN</td>\n",
       "    </tr>\n",
       "    <tr>\n",
       "      <th>paid</th>\n",
       "      <td>1044</td>\n",
       "      <td>2</td>\n",
       "      <td>no</td>\n",
       "      <td>824</td>\n",
       "      <td>NaN</td>\n",
       "      <td>NaN</td>\n",
       "      <td>NaN</td>\n",
       "      <td>NaN</td>\n",
       "      <td>NaN</td>\n",
       "      <td>NaN</td>\n",
       "      <td>NaN</td>\n",
       "    </tr>\n",
       "    <tr>\n",
       "      <th>activities</th>\n",
       "      <td>1044</td>\n",
       "      <td>2</td>\n",
       "      <td>no</td>\n",
       "      <td>528</td>\n",
       "      <td>NaN</td>\n",
       "      <td>NaN</td>\n",
       "      <td>NaN</td>\n",
       "      <td>NaN</td>\n",
       "      <td>NaN</td>\n",
       "      <td>NaN</td>\n",
       "      <td>NaN</td>\n",
       "    </tr>\n",
       "    <tr>\n",
       "      <th>nursery</th>\n",
       "      <td>1044</td>\n",
       "      <td>2</td>\n",
       "      <td>yes</td>\n",
       "      <td>835</td>\n",
       "      <td>NaN</td>\n",
       "      <td>NaN</td>\n",
       "      <td>NaN</td>\n",
       "      <td>NaN</td>\n",
       "      <td>NaN</td>\n",
       "      <td>NaN</td>\n",
       "      <td>NaN</td>\n",
       "    </tr>\n",
       "    <tr>\n",
       "      <th>higher</th>\n",
       "      <td>1044</td>\n",
       "      <td>2</td>\n",
       "      <td>yes</td>\n",
       "      <td>955</td>\n",
       "      <td>NaN</td>\n",
       "      <td>NaN</td>\n",
       "      <td>NaN</td>\n",
       "      <td>NaN</td>\n",
       "      <td>NaN</td>\n",
       "      <td>NaN</td>\n",
       "      <td>NaN</td>\n",
       "    </tr>\n",
       "    <tr>\n",
       "      <th>internet</th>\n",
       "      <td>1044</td>\n",
       "      <td>2</td>\n",
       "      <td>yes</td>\n",
       "      <td>827</td>\n",
       "      <td>NaN</td>\n",
       "      <td>NaN</td>\n",
       "      <td>NaN</td>\n",
       "      <td>NaN</td>\n",
       "      <td>NaN</td>\n",
       "      <td>NaN</td>\n",
       "      <td>NaN</td>\n",
       "    </tr>\n",
       "    <tr>\n",
       "      <th>romantic</th>\n",
       "      <td>1044</td>\n",
       "      <td>2</td>\n",
       "      <td>no</td>\n",
       "      <td>673</td>\n",
       "      <td>NaN</td>\n",
       "      <td>NaN</td>\n",
       "      <td>NaN</td>\n",
       "      <td>NaN</td>\n",
       "      <td>NaN</td>\n",
       "      <td>NaN</td>\n",
       "      <td>NaN</td>\n",
       "    </tr>\n",
       "    <tr>\n",
       "      <th>famrel</th>\n",
       "      <td>1044.0</td>\n",
       "      <td>5.0</td>\n",
       "      <td>4.0</td>\n",
       "      <td>512.0</td>\n",
       "      <td>NaN</td>\n",
       "      <td>NaN</td>\n",
       "      <td>NaN</td>\n",
       "      <td>NaN</td>\n",
       "      <td>NaN</td>\n",
       "      <td>NaN</td>\n",
       "      <td>NaN</td>\n",
       "    </tr>\n",
       "    <tr>\n",
       "      <th>freetime</th>\n",
       "      <td>1044.0</td>\n",
       "      <td>5.0</td>\n",
       "      <td>3.0</td>\n",
       "      <td>408.0</td>\n",
       "      <td>NaN</td>\n",
       "      <td>NaN</td>\n",
       "      <td>NaN</td>\n",
       "      <td>NaN</td>\n",
       "      <td>NaN</td>\n",
       "      <td>NaN</td>\n",
       "      <td>NaN</td>\n",
       "    </tr>\n",
       "    <tr>\n",
       "      <th>goout</th>\n",
       "      <td>1044.0</td>\n",
       "      <td>5.0</td>\n",
       "      <td>3.0</td>\n",
       "      <td>335.0</td>\n",
       "      <td>NaN</td>\n",
       "      <td>NaN</td>\n",
       "      <td>NaN</td>\n",
       "      <td>NaN</td>\n",
       "      <td>NaN</td>\n",
       "      <td>NaN</td>\n",
       "      <td>NaN</td>\n",
       "    </tr>\n",
       "    <tr>\n",
       "      <th>Dalc</th>\n",
       "      <td>1044.0</td>\n",
       "      <td>5.0</td>\n",
       "      <td>1.0</td>\n",
       "      <td>727.0</td>\n",
       "      <td>NaN</td>\n",
       "      <td>NaN</td>\n",
       "      <td>NaN</td>\n",
       "      <td>NaN</td>\n",
       "      <td>NaN</td>\n",
       "      <td>NaN</td>\n",
       "      <td>NaN</td>\n",
       "    </tr>\n",
       "    <tr>\n",
       "      <th>Walc</th>\n",
       "      <td>1044.0</td>\n",
       "      <td>5.0</td>\n",
       "      <td>1.0</td>\n",
       "      <td>398.0</td>\n",
       "      <td>NaN</td>\n",
       "      <td>NaN</td>\n",
       "      <td>NaN</td>\n",
       "      <td>NaN</td>\n",
       "      <td>NaN</td>\n",
       "      <td>NaN</td>\n",
       "      <td>NaN</td>\n",
       "    </tr>\n",
       "    <tr>\n",
       "      <th>health</th>\n",
       "      <td>1044.0</td>\n",
       "      <td>5.0</td>\n",
       "      <td>5.0</td>\n",
       "      <td>395.0</td>\n",
       "      <td>NaN</td>\n",
       "      <td>NaN</td>\n",
       "      <td>NaN</td>\n",
       "      <td>NaN</td>\n",
       "      <td>NaN</td>\n",
       "      <td>NaN</td>\n",
       "      <td>NaN</td>\n",
       "    </tr>\n",
       "    <tr>\n",
       "      <th>absences</th>\n",
       "      <td>1044.0</td>\n",
       "      <td>NaN</td>\n",
       "      <td>NaN</td>\n",
       "      <td>NaN</td>\n",
       "      <td>4.0</td>\n",
       "      <td>6.0</td>\n",
       "      <td>0.0</td>\n",
       "      <td>0.0</td>\n",
       "      <td>2.0</td>\n",
       "      <td>6.0</td>\n",
       "      <td>75.0</td>\n",
       "    </tr>\n",
       "    <tr>\n",
       "      <th>G1</th>\n",
       "      <td>1044.0</td>\n",
       "      <td>NaN</td>\n",
       "      <td>NaN</td>\n",
       "      <td>NaN</td>\n",
       "      <td>11.0</td>\n",
       "      <td>3.0</td>\n",
       "      <td>0.0</td>\n",
       "      <td>9.0</td>\n",
       "      <td>11.0</td>\n",
       "      <td>13.0</td>\n",
       "      <td>19.0</td>\n",
       "    </tr>\n",
       "    <tr>\n",
       "      <th>G2</th>\n",
       "      <td>1044.0</td>\n",
       "      <td>NaN</td>\n",
       "      <td>NaN</td>\n",
       "      <td>NaN</td>\n",
       "      <td>11.0</td>\n",
       "      <td>3.0</td>\n",
       "      <td>0.0</td>\n",
       "      <td>9.0</td>\n",
       "      <td>11.0</td>\n",
       "      <td>13.0</td>\n",
       "      <td>19.0</td>\n",
       "    </tr>\n",
       "    <tr>\n",
       "      <th>G3</th>\n",
       "      <td>1044.0</td>\n",
       "      <td>NaN</td>\n",
       "      <td>NaN</td>\n",
       "      <td>NaN</td>\n",
       "      <td>11.0</td>\n",
       "      <td>4.0</td>\n",
       "      <td>0.0</td>\n",
       "      <td>10.0</td>\n",
       "      <td>11.0</td>\n",
       "      <td>14.0</td>\n",
       "      <td>20.0</td>\n",
       "    </tr>\n",
       "  </tbody>\n",
       "</table>\n",
       "</div>"
      ],
      "text/plain": [
       "             count unique     top   freq  mean  std   min   25%   50%   75%  \\\n",
       "school        1044      2      GP    772   NaN  NaN   NaN   NaN   NaN   NaN   \n",
       "sex           1044      2       F    591   NaN  NaN   NaN   NaN   NaN   NaN   \n",
       "age         1044.0    NaN     NaN    NaN  17.0  1.0  15.0  16.0  17.0  18.0   \n",
       "address       1044      2       U    759   NaN  NaN   NaN   NaN   NaN   NaN   \n",
       "famsize       1044      2     GT3    738   NaN  NaN   NaN   NaN   NaN   NaN   \n",
       "Pstatus       1044      2       T    923   NaN  NaN   NaN   NaN   NaN   NaN   \n",
       "Medu        1044.0    5.0     4.0  306.0   NaN  NaN   NaN   NaN   NaN   NaN   \n",
       "Fedu        1044.0    5.0     2.0  324.0   NaN  NaN   NaN   NaN   NaN   NaN   \n",
       "Mjob          1044      5   other    399   NaN  NaN   NaN   NaN   NaN   NaN   \n",
       "Fjob          1044      5   other    584   NaN  NaN   NaN   NaN   NaN   NaN   \n",
       "reason        1044      4  course    430   NaN  NaN   NaN   NaN   NaN   NaN   \n",
       "guardian      1044      3  mother    728   NaN  NaN   NaN   NaN   NaN   NaN   \n",
       "traveltime  1044.0    4.0     1.0  623.0   NaN  NaN   NaN   NaN   NaN   NaN   \n",
       "studytime   1044.0    4.0     2.0  503.0   NaN  NaN   NaN   NaN   NaN   NaN   \n",
       "failures    1044.0    4.0     0.0  861.0   NaN  NaN   NaN   NaN   NaN   NaN   \n",
       "schoolsup     1044      2      no    925   NaN  NaN   NaN   NaN   NaN   NaN   \n",
       "famsup        1044      2     yes    640   NaN  NaN   NaN   NaN   NaN   NaN   \n",
       "paid          1044      2      no    824   NaN  NaN   NaN   NaN   NaN   NaN   \n",
       "activities    1044      2      no    528   NaN  NaN   NaN   NaN   NaN   NaN   \n",
       "nursery       1044      2     yes    835   NaN  NaN   NaN   NaN   NaN   NaN   \n",
       "higher        1044      2     yes    955   NaN  NaN   NaN   NaN   NaN   NaN   \n",
       "internet      1044      2     yes    827   NaN  NaN   NaN   NaN   NaN   NaN   \n",
       "romantic      1044      2      no    673   NaN  NaN   NaN   NaN   NaN   NaN   \n",
       "famrel      1044.0    5.0     4.0  512.0   NaN  NaN   NaN   NaN   NaN   NaN   \n",
       "freetime    1044.0    5.0     3.0  408.0   NaN  NaN   NaN   NaN   NaN   NaN   \n",
       "goout       1044.0    5.0     3.0  335.0   NaN  NaN   NaN   NaN   NaN   NaN   \n",
       "Dalc        1044.0    5.0     1.0  727.0   NaN  NaN   NaN   NaN   NaN   NaN   \n",
       "Walc        1044.0    5.0     1.0  398.0   NaN  NaN   NaN   NaN   NaN   NaN   \n",
       "health      1044.0    5.0     5.0  395.0   NaN  NaN   NaN   NaN   NaN   NaN   \n",
       "absences    1044.0    NaN     NaN    NaN   4.0  6.0   0.0   0.0   2.0   6.0   \n",
       "G1          1044.0    NaN     NaN    NaN  11.0  3.0   0.0   9.0  11.0  13.0   \n",
       "G2          1044.0    NaN     NaN    NaN  11.0  3.0   0.0   9.0  11.0  13.0   \n",
       "G3          1044.0    NaN     NaN    NaN  11.0  4.0   0.0  10.0  11.0  14.0   \n",
       "\n",
       "             max  \n",
       "school       NaN  \n",
       "sex          NaN  \n",
       "age         22.0  \n",
       "address      NaN  \n",
       "famsize      NaN  \n",
       "Pstatus      NaN  \n",
       "Medu         NaN  \n",
       "Fedu         NaN  \n",
       "Mjob         NaN  \n",
       "Fjob         NaN  \n",
       "reason       NaN  \n",
       "guardian     NaN  \n",
       "traveltime   NaN  \n",
       "studytime    NaN  \n",
       "failures     NaN  \n",
       "schoolsup    NaN  \n",
       "famsup       NaN  \n",
       "paid         NaN  \n",
       "activities   NaN  \n",
       "nursery      NaN  \n",
       "higher       NaN  \n",
       "internet     NaN  \n",
       "romantic     NaN  \n",
       "famrel       NaN  \n",
       "freetime     NaN  \n",
       "goout        NaN  \n",
       "Dalc         NaN  \n",
       "Walc         NaN  \n",
       "health       NaN  \n",
       "absences    75.0  \n",
       "G1          19.0  \n",
       "G2          19.0  \n",
       "G3          20.0  "
      ]
     },
     "execution_count": 12,
     "metadata": {},
     "output_type": "execute_result"
    }
   ],
   "source": [
    "df.describe(include=\"all\").round().T"
   ]
  },
  {
   "cell_type": "markdown",
   "id": "006c42d8",
   "metadata": {
    "papermill": {
     "duration": 0.098682,
     "end_time": "2022-02-15T13:20:53.519259",
     "exception": false,
     "start_time": "2022-02-15T13:20:53.420577",
     "status": "completed"
    },
    "tags": []
   },
   "source": [
    "# Univarate Analysis\n",
    "\n",
    "-------------------------------------------------"
   ]
  },
  {
   "cell_type": "markdown",
   "id": "4ac9d6aa",
   "metadata": {
    "papermill": {
     "duration": 0.098812,
     "end_time": "2022-02-15T13:20:53.717283",
     "exception": false,
     "start_time": "2022-02-15T13:20:53.618471",
     "status": "completed"
    },
    "tags": []
   },
   "source": [
    "## Distribution of Categotical Varriable\n",
    "\n",
    "---------------------------------------------"
   ]
  },
  {
   "cell_type": "code",
   "execution_count": 13,
   "id": "6f40c1d7",
   "metadata": {
    "execution": {
     "iopub.execute_input": "2022-02-15T13:20:53.928192Z",
     "iopub.status.busy": "2022-02-15T13:20:53.927458Z",
     "iopub.status.idle": "2022-02-15T13:20:53.928827Z",
     "shell.execute_reply": "2022-02-15T13:20:53.929400Z",
     "shell.execute_reply.started": "2022-02-15T10:33:06.190449Z"
    },
    "papermill": {
     "duration": 0.112813,
     "end_time": "2022-02-15T13:20:53.929556",
     "exception": false,
     "start_time": "2022-02-15T13:20:53.816743",
     "status": "completed"
    },
    "tags": []
   },
   "outputs": [],
   "source": [
    "plt.rcParams.update({'figure.max_open_warning': 0})"
   ]
  },
  {
   "cell_type": "code",
   "execution_count": 14,
   "id": "af5763a0",
   "metadata": {
    "execution": {
     "iopub.execute_input": "2022-02-15T13:20:54.133297Z",
     "iopub.status.busy": "2022-02-15T13:20:54.132641Z",
     "iopub.status.idle": "2022-02-15T13:20:58.660718Z",
     "shell.execute_reply": "2022-02-15T13:20:58.660055Z",
     "shell.execute_reply.started": "2022-02-15T07:45:28.383702Z"
    },
    "papermill": {
     "duration": 4.630522,
     "end_time": "2022-02-15T13:20:58.660863",
     "exception": false,
     "start_time": "2022-02-15T13:20:54.030341",
     "status": "completed"
    },
    "tags": []
   },
   "outputs": [
    {
     "data": {
      "text/plain": [
       "<Figure size 432x288 with 0 Axes>"
      ]
     },
     "metadata": {},
     "output_type": "display_data"
    },
    {
     "data": {
      "image/png": "[encoded data removed]",
      "text/plain": [
       "<Figure size 432x288 with 1 Axes>"
      ]
     },
     "metadata": {
      "needs_background": "light"
     },
     "output_type": "display_data"
    },
    {
     "data": {
      "text/plain": [
       "<Figure size 432x288 with 0 Axes>"
      ]
     },
     "metadata": {},
     "output_type": "display_data"
    },
    {
     "data": {
      "image/png": "[encoded data removed]",
      "text/plain": [
       "<Figure size 432x288 with 1 Axes>"
      ]
     },
     "metadata": {
      "needs_background": "light"
     },
     "output_type": "display_data"
    },
    {
     "data": {
      "text/plain": [
       "<Figure size 432x288 with 0 Axes>"
      ]
     },
     "metadata": {},
     "output_type": "display_data"
    },
    {
     "data": {
      "image/png": "[encoded data removed]",
      "text/plain": [
       "<Figure size 432x288 with 1 Axes>"
      ]
     },
     "metadata": {
      "needs_background": "light"
     },
     "output_type": "display_data"
    },
    {
     "data": {
      "text/plain": [
       "<Figure size 432x288 with 0 Axes>"
      ]
     },
     "metadata": {},
     "output_type": "display_data"
    },
    {
     "data": {
      "image/png": "[encoded data removed]",
      "text/plain": [
       "<Figure size 432x288 with 1 Axes>"
      ]
     },
     "metadata": {
      "needs_background": "light"
     },
     "output_type": "display_data"
    },
    {
     "data": {
      "text/plain": [
       "<Figure size 432x288 with 0 Axes>"
      ]
     },
     "metadata": {},
     "output_type": "display_data"
    },
    {
     "data": {
      "image/png": "[encoded data removed]",
      "text/plain": [
       "<Figure size 432x288 with 1 Axes>"
      ]
     },
     "metadata": {
      "needs_background": "light"
     },
     "output_type": "display_data"
    },
    {
     "data": {
      "text/plain": [
       "<Figure size 432x288 with 0 Axes>"
      ]
     },
     "metadata": {},
     "output_type": "display_data"
    },
    {
     "data": {
      "image/png": "[encoded data removed]",
      "text/plain": [
       "<Figure size 432x288 with 1 Axes>"
      ]
     },
     "metadata": {
      "needs_background": "light"
     },
     "output_type": "display_data"
    },
    {
     "data": {
      "text/plain": [
       "<Figure size 432x288 with 0 Axes>"
      ]
     },
     "metadata": {},
     "output_type": "display_data"
    },
    {
     "data": {
      "image/png": "[encoded data removed]",
      "text/plain": [
       "<Figure size 432x288 with 1 Axes>"
      ]
     },
     "metadata": {
      "needs_background": "light"
     },
     "output_type": "display_data"
    },
    {
     "data": {
      "text/plain": [
       "<Figure size 432x288 with 0 Axes>"
      ]
     },
     "metadata": {},
     "output_type": "display_data"
    },
    {
     "data": {
      "image/png": "[encoded data removed]",
      "text/plain": [
       "<Figure size 432x288 with 1 Axes>"
      ]
     },
     "metadata": {
      "needs_background": "light"
     },
     "output_type": "display_data"
    },
    {
     "data": {
      "text/plain": [
       "<Figure size 432x288 with 0 Axes>"
      ]
     },
     "metadata": {},
     "output_type": "display_data"
    },
    {
     "data": {
      "image/png": "[encoded data removed]",
      "text/plain": [
       "<Figure size 432x288 with 1 Axes>"
      ]
     },
     "metadata": {
      "needs_background": "light"
     },
     "output_type": "display_data"
    },
    {
     "data": {
      "text/plain": [
       "<Figure size 432x288 with 0 Axes>"
      ]
     },
     "metadata": {},
     "output_type": "display_data"
    },
    {
     "data": {
      "image/png": "[encoded data removed]",
      "text/plain": [
       "<Figure size 432x288 with 1 Axes>"
      ]
     },
     "metadata": {
      "needs_background": "light"
     },
     "output_type": "display_data"
    },
    {
     "data": {
      "text/plain": [
       "<Figure size 432x288 with 0 Axes>"
      ]
     },
     "metadata": {},
     "output_type": "display_data"
    },
    {
     "data": {
      "image/png": "[encoded data removed]",
      "text/plain": [
       "<Figure size 432x288 with 1 Axes>"
      ]
     },
     "metadata": {
      "needs_background": "light"
     },
     "output_type": "display_data"
    },
    {
     "data": {
      "text/plain": [
       "<Figure size 432x288 with 0 Axes>"
      ]
     },
     "metadata": {},
     "output_type": "display_data"
    },
    {
     "data": {
      "image/png": "[encoded data removed]",
      "text/plain": [
       "<Figure size 432x288 with 1 Axes>"
      ]
     },
     "metadata": {
      "needs_background": "light"
     },
     "output_type": "display_data"
    },
    {
     "data": {
      "text/plain": [
       "<Figure size 432x288 with 0 Axes>"
      ]
     },
     "metadata": {},
     "output_type": "display_data"
    },
    {
     "data": {
      "image/png": "[encoded data removed]",
      "text/plain": [
       "<Figure size 432x288 with 1 Axes>"
      ]
     },
     "metadata": {
      "needs_background": "light"
     },
     "output_type": "display_data"
    },
    {
     "data": {
      "text/plain": [
       "<Figure size 432x288 with 0 Axes>"
      ]
     },
     "metadata": {},
     "output_type": "display_data"
    },
    {
     "data": {
      "image/png": "[encoded data removed]",
      "text/plain": [
       "<Figure size 432x288 with 1 Axes>"
      ]
     },
     "metadata": {
      "needs_background": "light"
     },
     "output_type": "display_data"
    },
    {
     "data": {
      "text/plain": [
       "<Figure size 432x288 with 0 Axes>"
      ]
     },
     "metadata": {},
     "output_type": "display_data"
    },
    {
     "data": {
      "image/png": "[encoded data removed]",
      "text/plain": [
       "<Figure size 432x288 with 1 Axes>"
      ]
     },
     "metadata": {
      "needs_background": "light"
     },
     "output_type": "display_data"
    },
    {
     "data": {
      "text/plain": [
       "<Figure size 432x288 with 0 Axes>"
      ]
     },
     "metadata": {},
     "output_type": "display_data"
    },
    {
     "data": {
      "image/png": "[encoded data removed]",
      "text/plain": [
       "<Figure size 432x288 with 1 Axes>"
      ]
     },
     "metadata": {
      "needs_background": "light"
     },
     "output_type": "display_data"
    },
    {
     "data": {
      "text/plain": [
       "<Figure size 432x288 with 0 Axes>"
      ]
     },
     "metadata": {},
     "output_type": "display_data"
    },
    {
     "data": {
      "image/png": "[encoded data removed]",
      "text/plain": [
       "<Figure size 432x288 with 1 Axes>"
      ]
     },
     "metadata": {
      "needs_background": "light"
     },
     "output_type": "display_data"
    },
    {
     "data": {
      "text/plain": [
       "<Figure size 432x288 with 0 Axes>"
      ]
     },
     "metadata": {},
     "output_type": "display_data"
    },
    {
     "data": {
      "image/png": "[encoded data removed]",
      "text/plain": [
       "<Figure size 432x288 with 1 Axes>"
      ]
     },
     "metadata": {
      "needs_background": "light"
     },
     "output_type": "display_data"
    },
    {
     "data": {
      "text/plain": [
       "<Figure size 432x288 with 0 Axes>"
      ]
     },
     "metadata": {},
     "output_type": "display_data"
    },
    {
     "data": {
      "image/png": "[encoded data removed]",
      "text/plain": [
       "<Figure size 432x288 with 1 Axes>"
      ]
     },
     "metadata": {
      "needs_background": "light"
     },
     "output_type": "display_data"
    },
    {
     "data": {
      "text/plain": [
       "<Figure size 432x288 with 0 Axes>"
      ]
     },
     "metadata": {},
     "output_type": "display_data"
    },
    {
     "data": {
      "image/png": "[encoded data removed]",
      "text/plain": [
       "<Figure size 432x288 with 1 Axes>"
      ]
     },
     "metadata": {
      "needs_background": "light"
     },
     "output_type": "display_data"
    },
    {
     "data": {
      "text/plain": [
       "<Figure size 432x288 with 0 Axes>"
      ]
     },
     "metadata": {},
     "output_type": "display_data"
    },
    {
     "data": {
      "image/png": "[encoded data removed]",
      "text/plain": [
       "<Figure size 432x288 with 1 Axes>"
      ]
     },
     "metadata": {
      "needs_background": "light"
     },
     "output_type": "display_data"
    },
    {
     "data": {
      "text/plain": [
       "<Figure size 432x288 with 0 Axes>"
      ]
     },
     "metadata": {},
     "output_type": "display_data"
    },
    {
     "data": {
      "image/png": "[encoded data removed]",
      "text/plain": [
       "<Figure size 432x288 with 1 Axes>"
      ]
     },
     "metadata": {
      "needs_background": "light"
     },
     "output_type": "display_data"
    },
    {
     "data": {
      "text/plain": [
       "<Figure size 432x288 with 0 Axes>"
      ]
     },
     "metadata": {},
     "output_type": "display_data"
    },
    {
     "data": {
      "image/png": "[encoded data removed]",
      "text/plain": [
       "<Figure size 432x288 with 1 Axes>"
      ]
     },
     "metadata": {
      "needs_background": "light"
     },
     "output_type": "display_data"
    },
    {
     "data": {
      "text/plain": [
       "<Figure size 432x288 with 0 Axes>"
      ]
     },
     "metadata": {},
     "output_type": "display_data"
    },
    {
     "data": {
      "image/png": "[encoded data removed]",
      "text/plain": [
       "<Figure size 432x288 with 1 Axes>"
      ]
     },
     "metadata": {
      "needs_background": "light"
     },
     "output_type": "display_data"
    },
    {
     "data": {
      "text/plain": [
       "<Figure size 432x288 with 0 Axes>"
      ]
     },
     "metadata": {},
     "output_type": "display_data"
    },
    {
     "data": {
      "image/png": "[encoded data removed]",
      "text/plain": [
       "<Figure size 432x288 with 1 Axes>"
      ]
     },
     "metadata": {
      "needs_background": "light"
     },
     "output_type": "display_data"
    },
    {
     "data": {
      "text/plain": [
       "<Figure size 432x288 with 0 Axes>"
      ]
     },
     "metadata": {},
     "output_type": "display_data"
    },
    {
     "data": {
      "image/png": "[encoded data removed]",
      "text/plain": [
       "<Figure size 432x288 with 1 Axes>"
      ]
     },
     "metadata": {
      "needs_background": "light"
     },
     "output_type": "display_data"
    },
    {
     "data": {
      "text/plain": [
       "<Figure size 432x288 with 0 Axes>"
      ]
     },
     "metadata": {},
     "output_type": "display_data"
    },
    {
     "data": {
      "image/png": "[encoded data removed]",
      "text/plain": [
       "<Figure size 432x288 with 1 Axes>"
      ]
     },
     "metadata": {
      "needs_background": "light"
     },
     "output_type": "display_data"
    },
    {
     "data": {
      "text/plain": [
       "<Figure size 432x288 with 0 Axes>"
      ]
     },
     "metadata": {},
     "output_type": "display_data"
    },
    {
     "data": {
      "image/png": "[encoded data removed]",
      "text/plain": [
       "<Figure size 432x288 with 1 Axes>"
      ]
     },
     "metadata": {
      "needs_background": "light"
     },
     "output_type": "display_data"
    }
   ],
   "source": [
    "df1 = df.select_dtypes(exclude=['int64'])\n",
    "for i, col in enumerate(df1.columns):\n",
    "    plt.figure(i)\n",
    "    plt.figure() #this creates a new figure on which your plot will appear\n",
    "    sns.countplot(x=col, data=df1,palette=\"Set3\")\n",
    "    plt.show()"
   ]
  },
  {
   "cell_type": "markdown",
   "id": "a97584df",
   "metadata": {
    "papermill": {
     "duration": 0.135095,
     "end_time": "2022-02-15T13:20:58.932117",
     "exception": false,
     "start_time": "2022-02-15T13:20:58.797022",
     "status": "completed"
    },
    "tags": []
   },
   "source": [
    "## Distribution of Numerical Varriable\n",
    "\n",
    "-------------------------------------------------"
   ]
  },
  {
   "cell_type": "code",
   "execution_count": 15,
   "id": "a2b8e9f5",
   "metadata": {
    "execution": {
     "iopub.execute_input": "2022-02-15T13:20:59.208772Z",
     "iopub.status.busy": "2022-02-15T13:20:59.208076Z",
     "iopub.status.idle": "2022-02-15T13:20:59.210757Z",
     "shell.execute_reply": "2022-02-15T13:20:59.210261Z"
    },
    "papermill": {
     "duration": 0.141765,
     "end_time": "2022-02-15T13:20:59.210924",
     "exception": false,
     "start_time": "2022-02-15T13:20:59.069159",
     "status": "completed"
    },
    "tags": []
   },
   "outputs": [],
   "source": [
    "# title=[\"distribution of age\",'distribution of absence in class','distribution of Grade 1',\n",
    "#        'distribution of Grade 2','distribution of Grade 3']"
   ]
  },
  {
   "cell_type": "code",
   "execution_count": 16,
   "id": "0030d320",
   "metadata": {
    "execution": {
     "iopub.execute_input": "2022-02-15T13:20:59.519935Z",
     "iopub.status.busy": "2022-02-15T13:20:59.502320Z",
     "iopub.status.idle": "2022-02-15T13:21:00.659747Z",
     "shell.execute_reply": "2022-02-15T13:21:00.660326Z",
     "shell.execute_reply.started": "2022-02-15T07:51:13.407681Z"
    },
    "papermill": {
     "duration": 1.308753,
     "end_time": "2022-02-15T13:21:00.660537",
     "exception": false,
     "start_time": "2022-02-15T13:20:59.351784",
     "status": "completed"
    },
    "tags": []
   },
   "outputs": [
    {
     "data": {
      "text/plain": [
       "<Figure size 432x288 with 0 Axes>"
      ]
     },
     "metadata": {},
     "output_type": "display_data"
    },
    {
     "data": {
      "image/png": "[encoded data removed]",
      "text/plain": [
       "<Figure size 432x288 with 1 Axes>"
      ]
     },
     "metadata": {
      "needs_background": "light"
     },
     "output_type": "display_data"
    },
    {
     "data": {
      "text/plain": [
       "<Figure size 432x288 with 0 Axes>"
      ]
     },
     "metadata": {},
     "output_type": "display_data"
    },
    {
     "data": {
      "image/png": "[encoded data removed]",
      "text/plain": [
       "<Figure size 432x288 with 1 Axes>"
      ]
     },
     "metadata": {
      "needs_background": "light"
     },
     "output_type": "display_data"
    },
    {
     "data": {
      "text/plain": [
       "<Figure size 432x288 with 0 Axes>"
      ]
     },
     "metadata": {},
     "output_type": "display_data"
    },
    {
     "data": {
      "image/png": "[encoded data removed]",
      "text/plain": [
       "<Figure size 432x288 with 1 Axes>"
      ]
     },
     "metadata": {
      "needs_background": "light"
     },
     "output_type": "display_data"
    },
    {
     "data": {
      "text/plain": [
       "<Figure size 432x288 with 0 Axes>"
      ]
     },
     "metadata": {},
     "output_type": "display_data"
    },
    {
     "data": {
      "image/png": "[encoded data removed]",
      "text/plain": [
       "<Figure size 432x288 with 1 Axes>"
      ]
     },
     "metadata": {
      "needs_background": "light"
     },
     "output_type": "display_data"
    },
    {
     "data": {
      "text/plain": [
       "<Figure size 432x288 with 0 Axes>"
      ]
     },
     "metadata": {},
     "output_type": "display_data"
    },
    {
     "data": {
      "image/png": "[encoded data removed]",
      "text/plain": [
       "<Figure size 432x288 with 1 Axes>"
      ]
     },
     "metadata": {
      "needs_background": "light"
     },
     "output_type": "display_data"
    }
   ],
   "source": [
    "\n",
    "df1 = df.select_dtypes(include=['int64'])\n",
    "for i, col in enumerate(df1.columns):\n",
    "    plt.figure(i)\n",
    "    plt.figure() #this creates a new figure on which your plot will appear\n",
    "    sns.histplot(x=col, data=df1,palette=\"Set3\",kde=True,bins=10)\n",
    "    plt.show()"
   ]
  },
  {
   "cell_type": "markdown",
   "id": "7e6b993f",
   "metadata": {
    "papermill": {
     "duration": 0.143147,
     "end_time": "2022-02-15T13:21:00.947828",
     "exception": false,
     "start_time": "2022-02-15T13:21:00.804681",
     "status": "completed"
    },
    "tags": []
   },
   "source": [
    "# Bivarate Analysis"
   ]
  },
  {
   "cell_type": "markdown",
   "id": "3c276c46",
   "metadata": {
    "papermill": {
     "duration": 0.143423,
     "end_time": "2022-02-15T13:21:01.237303",
     "exception": false,
     "start_time": "2022-02-15T13:21:01.093880",
     "status": "completed"
    },
    "tags": []
   },
   "source": [
    "## Schoolsup with the Grades of the subject\n",
    "(schoolsup : extra educational support (binary: yes or no))"
   ]
  },
  {
   "cell_type": "code",
   "execution_count": 17,
   "id": "27b3ae88",
   "metadata": {
    "execution": {
     "iopub.execute_input": "2022-02-15T13:21:01.542729Z",
     "iopub.status.busy": "2022-02-15T13:21:01.541704Z",
     "iopub.status.idle": "2022-02-15T13:21:01.746365Z",
     "shell.execute_reply": "2022-02-15T13:21:01.746941Z",
     "shell.execute_reply.started": "2022-02-15T09:32:05.306881Z"
    },
    "papermill": {
     "duration": 0.362811,
     "end_time": "2022-02-15T13:21:01.747145",
     "exception": false,
     "start_time": "2022-02-15T13:21:01.384334",
     "status": "completed"
    },
    "tags": []
   },
   "outputs": [
    {
     "data": {
      "image/png": "[encoded data removed]",
      "text/plain": [
       "<Figure size 432x288 with 1 Axes>"
      ]
     },
     "metadata": {
      "needs_background": "light"
     },
     "output_type": "display_data"
    }
   ],
   "source": [
    "sns.boxplot(data=df, x=\"schoolsup\", y=\"G3\");"
   ]
  },
  {
   "cell_type": "markdown",
   "id": "8a6fdf93",
   "metadata": {
    "papermill": {
     "duration": 0.144436,
     "end_time": "2022-02-15T13:21:02.038161",
     "exception": false,
     "start_time": "2022-02-15T13:21:01.893725",
     "status": "completed"
    },
    "tags": []
   },
   "source": [
    "## Family Support with the grades of the subject\n",
    "(family educational support (binary: yes or no))"
   ]
  },
  {
   "cell_type": "code",
   "execution_count": 18,
   "id": "b1db28f9",
   "metadata": {
    "execution": {
     "iopub.execute_input": "2022-02-15T13:21:02.332896Z",
     "iopub.status.busy": "2022-02-15T13:21:02.331872Z",
     "iopub.status.idle": "2022-02-15T13:21:02.530530Z",
     "shell.execute_reply": "2022-02-15T13:21:02.529706Z",
     "shell.execute_reply.started": "2022-02-15T09:33:28.485469Z"
    },
    "papermill": {
     "duration": 0.349442,
     "end_time": "2022-02-15T13:21:02.530699",
     "exception": false,
     "start_time": "2022-02-15T13:21:02.181257",
     "status": "completed"
    },
    "tags": []
   },
   "outputs": [
    {
     "data": {
      "image/png": "[encoded data removed]",
      "text/plain": [
       "<Figure size 432x288 with 1 Axes>"
      ]
     },
     "metadata": {
      "needs_background": "light"
     },
     "output_type": "display_data"
    }
   ],
   "source": [
    "sns.boxplot(data=df, x=\"famsup\", y=\"G3\");"
   ]
  },
  {
   "cell_type": "markdown",
   "id": "86c2045f",
   "metadata": {
    "papermill": {
     "duration": 0.144112,
     "end_time": "2022-02-15T13:21:02.819251",
     "exception": false,
     "start_time": "2022-02-15T13:21:02.675139",
     "status": "completed"
    },
    "tags": []
   },
   "source": [
    "## Nursery class status with the grades of the subject\n",
    "(attended nursery school (binary: yes or no))"
   ]
  },
  {
   "cell_type": "code",
   "execution_count": 19,
   "id": "512c95b5",
   "metadata": {
    "execution": {
     "iopub.execute_input": "2022-02-15T13:21:03.119458Z",
     "iopub.status.busy": "2022-02-15T13:21:03.118731Z",
     "iopub.status.idle": "2022-02-15T13:21:03.315678Z",
     "shell.execute_reply": "2022-02-15T13:21:03.316216Z",
     "shell.execute_reply.started": "2022-02-15T09:34:31.868992Z"
    },
    "papermill": {
     "duration": 0.347952,
     "end_time": "2022-02-15T13:21:03.316422",
     "exception": false,
     "start_time": "2022-02-15T13:21:02.968470",
     "status": "completed"
    },
    "tags": []
   },
   "outputs": [
    {
     "data": {
      "image/png": "[encoded data removed]",
      "text/plain": [
       "<Figure size 432x288 with 1 Axes>"
      ]
     },
     "metadata": {
      "needs_background": "light"
     },
     "output_type": "display_data"
    }
   ],
   "source": [
    "sns.boxplot(data=df, x=\"nursery\", y=\"G3\");"
   ]
  },
  {
   "cell_type": "markdown",
   "id": "00c4fe75",
   "metadata": {
    "papermill": {
     "duration": 0.144467,
     "end_time": "2022-02-15T13:21:03.605574",
     "exception": false,
     "start_time": "2022-02-15T13:21:03.461107",
     "status": "completed"
    },
    "tags": []
   },
   "source": [
    "## Health with the grades of the subject\n",
    "(current health status (numeric: from 1 : very bad to 5 : very good))"
   ]
  },
  {
   "cell_type": "code",
   "execution_count": 20,
   "id": "d1dee358",
   "metadata": {
    "execution": {
     "iopub.execute_input": "2022-02-15T13:21:03.904440Z",
     "iopub.status.busy": "2022-02-15T13:21:03.903767Z",
     "iopub.status.idle": "2022-02-15T13:21:04.152056Z",
     "shell.execute_reply": "2022-02-15T13:21:04.151485Z",
     "shell.execute_reply.started": "2022-02-15T09:35:24.669279Z"
    },
    "papermill": {
     "duration": 0.399707,
     "end_time": "2022-02-15T13:21:04.152217",
     "exception": false,
     "start_time": "2022-02-15T13:21:03.752510",
     "status": "completed"
    },
    "tags": []
   },
   "outputs": [
    {
     "data": {
      "image/png": "[encoded data removed]",
      "text/plain": [
       "<Figure size 432x288 with 1 Axes>"
      ]
     },
     "metadata": {
      "needs_background": "light"
     },
     "output_type": "display_data"
    }
   ],
   "source": [
    "sns.boxplot(data=df, x=\"health\", y=\"G3\");"
   ]
  },
  {
   "cell_type": "markdown",
   "id": "70bad219",
   "metadata": {
    "papermill": {
     "duration": 0.147877,
     "end_time": "2022-02-15T13:21:04.446543",
     "exception": false,
     "start_time": "2022-02-15T13:21:04.298666",
     "status": "completed"
    },
    "tags": []
   },
   "source": [
    "## Effect of famsize on students performance\n",
    "(famsize : family size (binary: \"LE3\" : less or equal to 3 or \"GT3\" : greater than 3))"
   ]
  },
  {
   "cell_type": "code",
   "execution_count": 21,
   "id": "79b6acde",
   "metadata": {
    "execution": {
     "iopub.execute_input": "2022-02-15T13:21:04.739331Z",
     "iopub.status.busy": "2022-02-15T13:21:04.738644Z",
     "iopub.status.idle": "2022-02-15T13:21:04.939838Z",
     "shell.execute_reply": "2022-02-15T13:21:04.938862Z",
     "shell.execute_reply.started": "2022-02-15T09:36:29.810407Z"
    },
    "papermill": {
     "duration": 0.349328,
     "end_time": "2022-02-15T13:21:04.940016",
     "exception": false,
     "start_time": "2022-02-15T13:21:04.590688",
     "status": "completed"
    },
    "tags": []
   },
   "outputs": [
    {
     "data": {
      "image/png": "[encoded data removed]",
      "text/plain": [
       "<Figure size 432x288 with 1 Axes>"
      ]
     },
     "metadata": {
      "needs_background": "light"
     },
     "output_type": "display_data"
    }
   ],
   "source": [
    "sns.boxplot(data=df, x=\"famsize\", y=\"G3\");"
   ]
  },
  {
   "cell_type": "markdown",
   "id": "861c582f",
   "metadata": {
    "papermill": {
     "duration": 0.1467,
     "end_time": "2022-02-15T13:21:05.236402",
     "exception": false,
     "start_time": "2022-02-15T13:21:05.089702",
     "status": "completed"
    },
    "tags": []
   },
   "source": [
    "## Effect of Pstatus on students performance\n",
    "(Pstatus : parent's cohabitation status (binary: \"T\" : living together or \"A\" : apart))"
   ]
  },
  {
   "cell_type": "code",
   "execution_count": 22,
   "id": "4afda592",
   "metadata": {
    "execution": {
     "iopub.execute_input": "2022-02-15T13:21:05.540099Z",
     "iopub.status.busy": "2022-02-15T13:21:05.539394Z",
     "iopub.status.idle": "2022-02-15T13:21:05.736155Z",
     "shell.execute_reply": "2022-02-15T13:21:05.735470Z",
     "shell.execute_reply.started": "2022-02-15T09:37:12.179168Z"
    },
    "papermill": {
     "duration": 0.346852,
     "end_time": "2022-02-15T13:21:05.736323",
     "exception": false,
     "start_time": "2022-02-15T13:21:05.389471",
     "status": "completed"
    },
    "tags": []
   },
   "outputs": [
    {
     "data": {
      "image/png": "[encoded data removed]",
      "text/plain": [
       "<Figure size 432x288 with 1 Axes>"
      ]
     },
     "metadata": {
      "needs_background": "light"
     },
     "output_type": "display_data"
    }
   ],
   "source": [
    "sns.boxplot(data=df, x=\"Pstatus\", y=\"G3\");"
   ]
  },
  {
   "cell_type": "markdown",
   "id": "55955f9e",
   "metadata": {
    "papermill": {
     "duration": 0.176157,
     "end_time": "2022-02-15T13:21:06.061809",
     "exception": false,
     "start_time": "2022-02-15T13:21:05.885652",
     "status": "completed"
    },
    "tags": []
   },
   "source": [
    "## Effect of Medu and Fedu on students performance\n",
    "- Medu : mother's education (numeric: 0 : none, 1 : primary education (4th grade), 2 : 5th to 9th grade, 3 : secondary education or 4: higher education) \n",
    "- Fedu : father's education (numeric: 0 : none, 1 : primary education (4th grade), 2 : 5th to 9th grade, 3 : secondary education or 4 : higher education)\n"
   ]
  },
  {
   "cell_type": "code",
   "execution_count": 23,
   "id": "3d5cb78f",
   "metadata": {
    "execution": {
     "iopub.execute_input": "2022-02-15T13:21:06.371645Z",
     "iopub.status.busy": "2022-02-15T13:21:06.370586Z",
     "iopub.status.idle": "2022-02-15T13:21:06.889430Z",
     "shell.execute_reply": "2022-02-15T13:21:06.889969Z",
     "shell.execute_reply.started": "2022-02-15T09:38:22.785831Z"
    },
    "papermill": {
     "duration": 0.676481,
     "end_time": "2022-02-15T13:21:06.890178",
     "exception": false,
     "start_time": "2022-02-15T13:21:06.213697",
     "status": "completed"
    },
    "tags": []
   },
   "outputs": [
    {
     "data": {
      "image/png": "[encoded data removed]",
      "text/plain": [
       "<Figure size 1600x480 with 2 Axes>"
      ]
     },
     "metadata": {},
     "output_type": "display_data"
    }
   ],
   "source": [
    "fig, ax =plt.subplots(1,2,figsize=(20,6), dpi=80, facecolor='w', edgecolor='k')\n",
    "sns.boxplot(data=df, x=\"Medu\", y=\"G3\", ax=ax[0]).set_title('Mother Education Level')\n",
    "ax[0].set_xticklabels( ('none', 'primary education (4th grade)','5th to 9th grade','secondary education','higher education'),rotation='vertical' )\n",
    "ax[0].set_xlabel('mother education')\n",
    "ax[0].set_ylabel('Final Grades')\n",
    "sns.boxplot(data=df, x=\"Fedu\", y=\"G3\", ax=ax[1]).set_title('Father Education Level')\n",
    "ax[1].set_xticklabels( ('none', 'primary education (4th grade)','5th to 9th grade','secondary education','higher education'),rotation='vertical' )\n",
    "ax[1].set_xlabel('Father education')\n",
    "ax[1].set_ylabel('Final Grades')\n",
    "fig.suptitle('Effect of Parents Education on students performancee', fontsize=16)\n",
    "fig.show()"
   ]
  },
  {
   "cell_type": "markdown",
   "id": "f1584745",
   "metadata": {
    "papermill": {
     "duration": 0.148321,
     "end_time": "2022-02-15T13:21:07.188807",
     "exception": false,
     "start_time": "2022-02-15T13:21:07.040486",
     "status": "completed"
    },
    "tags": []
   },
   "source": [
    "## Effect of Mother and Father Job on students performance\n",
    " - Mjob : mother's job (nominal: \"teacher\", \"health\" care related, civil \"services\" (e.g. administrative or police), \"at_home\" or \"other\")\n",
    "\n",
    "- Fjob : father's job (nominal: \"teacher\", \"health\" care related, civil \"services\" (e.g. administrative or police), \"at_home\" or \"other\""
   ]
  },
  {
   "cell_type": "code",
   "execution_count": 24,
   "id": "765e937b",
   "metadata": {
    "execution": {
     "iopub.execute_input": "2022-02-15T13:21:07.489802Z",
     "iopub.status.busy": "2022-02-15T13:21:07.488820Z",
     "iopub.status.idle": "2022-02-15T13:21:07.982067Z",
     "shell.execute_reply": "2022-02-15T13:21:07.982748Z",
     "shell.execute_reply.started": "2022-02-15T09:48:58.813460Z"
    },
    "papermill": {
     "duration": 0.645809,
     "end_time": "2022-02-15T13:21:07.983018",
     "exception": false,
     "start_time": "2022-02-15T13:21:07.337209",
     "status": "completed"
    },
    "tags": []
   },
   "outputs": [
    {
     "data": {
      "image/png": "[encoded data removed]",
      "text/plain": [
       "<Figure size 1600x480 with 2 Axes>"
      ]
     },
     "metadata": {},
     "output_type": "display_data"
    }
   ],
   "source": [
    "fig, ax =plt.subplots(1,2,figsize=(20,6), dpi=80, facecolor='w', edgecolor='k')\n",
    "sns.boxplot(data=df, x=\"Mjob\", y=\"G3\", ax=ax[0]).set_title('Mother Job Level')\n",
    "ax[0].set_xticklabels( ('teacher', 'health','services','at_home','other'),rotation='vertical' )\n",
    "ax[0].set_xlabel('Mother Job')\n",
    "ax[0].set_ylabel('Final Grades')\n",
    "sns.boxplot(data=df, x=\"Fjob\", y=\"G3\", ax=ax[1]).set_title('Father Job Level')\n",
    "ax[1].set_xticklabels( ('teacher', 'health','services','at_home','other'),rotation='vertical' )\n",
    "ax[1].set_xlabel('Father Job')\n",
    "ax[1].set_ylabel('Final Grades')\n",
    "fig.suptitle('Effect of Parents Job on students performancee', fontsize=16)\n",
    "fig.show()"
   ]
  },
  {
   "cell_type": "markdown",
   "id": "45bf91a6",
   "metadata": {
    "papermill": {
     "duration": 0.152991,
     "end_time": "2022-02-15T13:21:08.290350",
     "exception": false,
     "start_time": "2022-02-15T13:21:08.137359",
     "status": "completed"
    },
    "tags": []
   },
   "source": [
    "## Interrelationship Between Different Grading Scheme"
   ]
  },
  {
   "cell_type": "code",
   "execution_count": 25,
   "id": "184e8a75",
   "metadata": {
    "execution": {
     "iopub.execute_input": "2022-02-15T13:21:08.603816Z",
     "iopub.status.busy": "2022-02-15T13:21:08.602790Z",
     "iopub.status.idle": "2022-02-15T13:21:09.460947Z",
     "shell.execute_reply": "2022-02-15T13:21:09.461453Z",
     "shell.execute_reply.started": "2022-02-15T09:52:50.826029Z"
    },
    "papermill": {
     "duration": 1.018101,
     "end_time": "2022-02-15T13:21:09.461647",
     "exception": false,
     "start_time": "2022-02-15T13:21:08.443546",
     "status": "completed"
    },
    "tags": []
   },
   "outputs": [
    {
     "data": {
      "image/png": "[encoded data removed]",
      "text/plain": [
       "<Figure size 1600x480 with 3 Axes>"
      ]
     },
     "metadata": {},
     "output_type": "display_data"
    }
   ],
   "source": [
    "fig, ax =plt.subplots(1,3,figsize=(20,6), dpi=80, facecolor='w', edgecolor='k')\n",
    "sns.scatterplot(data=df, x=\"G1\", y=\"G3\",ax=ax[0])\n",
    "sns.scatterplot(data=df, x=\"G2\", y=\"G3\",ax=ax[1])\n",
    "sns.scatterplot(data=df, x=\"G1\", y=\"G2\",ax=ax[2])\n",
    "sns.cubehelix_palette(start=.5, rot=-.5, as_cmap=True)\n",
    "fig.suptitle('Relationship Between Different Grade with each other', fontsize=16)\n",
    "fig.show()"
   ]
  },
  {
   "cell_type": "code",
   "execution_count": 26,
   "id": "e39e9351",
   "metadata": {
    "execution": {
     "iopub.execute_input": "2022-02-15T13:21:09.780055Z",
     "iopub.status.busy": "2022-02-15T13:21:09.779069Z",
     "iopub.status.idle": "2022-02-15T13:21:09.784606Z",
     "shell.execute_reply": "2022-02-15T13:21:09.784040Z",
     "shell.execute_reply.started": "2022-02-15T10:01:00.839304Z"
    },
    "papermill": {
     "duration": 0.166995,
     "end_time": "2022-02-15T13:21:09.784771",
     "exception": false,
     "start_time": "2022-02-15T13:21:09.617776",
     "status": "completed"
    },
    "tags": []
   },
   "outputs": [],
   "source": [
    "sns.set_theme(style=\"ticks\")"
   ]
  },
  {
   "cell_type": "code",
   "execution_count": 27,
   "id": "afeff49a",
   "metadata": {
    "execution": {
     "iopub.execute_input": "2022-02-15T13:21:10.102019Z",
     "iopub.status.busy": "2022-02-15T13:21:10.100952Z",
     "iopub.status.idle": "2022-02-15T13:21:12.101004Z",
     "shell.execute_reply": "2022-02-15T13:21:12.101502Z",
     "shell.execute_reply.started": "2022-02-15T10:03:29.700850Z"
    },
    "papermill": {
     "duration": 2.163339,
     "end_time": "2022-02-15T13:21:12.101696",
     "exception": false,
     "start_time": "2022-02-15T13:21:09.938357",
     "status": "completed"
    },
    "tags": []
   },
   "outputs": [
    {
     "data": {
      "image/png": "[encoded data removed]",
      "text/plain": [
       "<Figure size 432x432 with 3 Axes>"
      ]
     },
     "metadata": {},
     "output_type": "display_data"
    },
    {
     "data": {
      "image/png": "[encoded data removed]",
      "text/plain": [
       "<Figure size 432x432 with 3 Axes>"
      ]
     },
     "metadata": {},
     "output_type": "display_data"
    },
    {
     "data": {
      "image/png": "[encoded data removed]",
      "text/plain": [
       "<Figure size 432x432 with 3 Axes>"
      ]
     },
     "metadata": {},
     "output_type": "display_data"
    }
   ],
   "source": [
    "sns.jointplot(x=df['G1'], y=df['G3'], kind=\"hex\", color=\"#4CB391\")\n",
    "sns.jointplot(x=df['G2'], y=df['G3'], kind=\"hex\", color=\"#4CB391\")\n",
    "sns.jointplot(x=df['G1'], y=df['G2'], kind=\"hex\", color=\"#4CB391\")\n",
    "fig.show()"
   ]
  },
  {
   "cell_type": "code",
   "execution_count": 28,
   "id": "bf81f0e9",
   "metadata": {
    "execution": {
     "iopub.execute_input": "2022-02-15T13:21:12.419200Z",
     "iopub.status.busy": "2022-02-15T13:21:12.418470Z",
     "iopub.status.idle": "2022-02-15T13:21:13.054673Z",
     "shell.execute_reply": "2022-02-15T13:21:13.055306Z",
     "shell.execute_reply.started": "2022-02-15T10:51:55.374561Z"
    },
    "papermill": {
     "duration": 0.795739,
     "end_time": "2022-02-15T13:21:13.055542",
     "exception": false,
     "start_time": "2022-02-15T13:21:12.259803",
     "status": "completed"
    },
    "tags": []
   },
   "outputs": [
    {
     "data": {
      "text/plain": [
       "<seaborn.axisgrid.JointGrid at 0x7f02a8012b90>"
      ]
     },
     "execution_count": 28,
     "metadata": {},
     "output_type": "execute_result"
    },
    {
     "data": {
      "image/png": "[encoded data removed]",
      "text/plain": [
       "<Figure size 432x432 with 3 Axes>"
      ]
     },
     "metadata": {},
     "output_type": "display_data"
    }
   ],
   "source": [
    "sns.jointplot(x=df['G1'], y=df['G2'], kind=\"hex\", color=\"#4CB391\",bins=6)"
   ]
  },
  {
   "cell_type": "markdown",
   "id": "0d476867",
   "metadata": {
    "papermill": {
     "duration": 0.158416,
     "end_time": "2022-02-15T13:21:13.377026",
     "exception": false,
     "start_time": "2022-02-15T13:21:13.218610",
     "status": "completed"
    },
    "tags": []
   },
   "source": []
  },
  {
   "cell_type": "code",
   "execution_count": 29,
   "id": "8c516786",
   "metadata": {
    "execution": {
     "iopub.execute_input": "2022-02-15T13:21:13.700225Z",
     "iopub.status.busy": "2022-02-15T13:21:13.699543Z",
     "iopub.status.idle": "2022-02-15T13:21:13.703964Z",
     "shell.execute_reply": "2022-02-15T13:21:13.703319Z",
     "shell.execute_reply.started": "2022-02-15T10:34:14.229061Z"
    },
    "papermill": {
     "duration": 0.168949,
     "end_time": "2022-02-15T13:21:13.704110",
     "exception": false,
     "start_time": "2022-02-15T13:21:13.535161",
     "status": "completed"
    },
    "tags": []
   },
   "outputs": [
    {
     "data": {
      "text/plain": [
       "Index(['school', 'sex', 'age', 'address', 'famsize', 'Pstatus', 'Medu', 'Fedu',\n",
       "       'Mjob', 'Fjob', 'reason', 'guardian', 'traveltime', 'studytime',\n",
       "       'failures', 'schoolsup', 'famsup', 'paid', 'activities', 'nursery',\n",
       "       'higher', 'internet', 'romantic', 'famrel', 'freetime', 'goout', 'Dalc',\n",
       "       'Walc', 'health', 'absences', 'G1', 'G2', 'G3'],\n",
       "      dtype='object')"
      ]
     },
     "execution_count": 29,
     "metadata": {},
     "output_type": "execute_result"
    }
   ],
   "source": [
    "df.columns"
   ]
  },
  {
   "cell_type": "code",
   "execution_count": 30,
   "id": "e7a3b8b8",
   "metadata": {
    "execution": {
     "iopub.execute_input": "2022-02-15T13:21:14.055211Z",
     "iopub.status.busy": "2022-02-15T13:21:14.031374Z",
     "iopub.status.idle": "2022-02-15T13:21:14.336078Z",
     "shell.execute_reply": "2022-02-15T13:21:14.335380Z",
     "shell.execute_reply.started": "2022-02-15T10:51:43.820260Z"
    },
    "papermill": {
     "duration": 0.473601,
     "end_time": "2022-02-15T13:21:14.336239",
     "exception": false,
     "start_time": "2022-02-15T13:21:13.862638",
     "status": "completed"
    },
    "tags": []
   },
   "outputs": [
    {
     "data": {
      "text/plain": [
       "<AxesSubplot:xlabel='absences', ylabel='G3'>"
      ]
     },
     "execution_count": 30,
     "metadata": {},
     "output_type": "execute_result"
    },
    {
     "data": {
      "image/png": "[encoded data removed]",
      "text/plain": [
       "<Figure size 432x288 with 2 Axes>"
      ]
     },
     "metadata": {},
     "output_type": "display_data"
    }
   ],
   "source": [
    "sns.histplot(\n",
    "    df, x=\"absences\", y=\"G3\",\n",
    "    bins=5, discrete=(True, False),\n",
    "    cbar=True, cbar_kws=dict(shrink=.75)\n",
    ")"
   ]
  },
  {
   "cell_type": "code",
   "execution_count": 31,
   "id": "7969c17d",
   "metadata": {
    "execution": {
     "iopub.execute_input": "2022-02-15T13:21:14.665680Z",
     "iopub.status.busy": "2022-02-15T13:21:14.664881Z",
     "iopub.status.idle": "2022-02-15T13:21:14.932281Z",
     "shell.execute_reply": "2022-02-15T13:21:14.932810Z",
     "shell.execute_reply.started": "2022-02-15T10:51:13.057277Z"
    },
    "papermill": {
     "duration": 0.437011,
     "end_time": "2022-02-15T13:21:14.933037",
     "exception": false,
     "start_time": "2022-02-15T13:21:14.496026",
     "status": "completed"
    },
    "tags": []
   },
   "outputs": [
    {
     "data": {
      "text/plain": [
       "<AxesSubplot:xlabel='G3', ylabel='Density'>"
      ]
     },
     "execution_count": 31,
     "metadata": {},
     "output_type": "execute_result"
    },
    {
     "data": {
      "image/png": "[encoded data removed]",
      "text/plain": [
       "<Figure size 432x288 with 1 Axes>"
      ]
     },
     "metadata": {},
     "output_type": "display_data"
    }
   ],
   "source": [
    "sns.histplot(\n",
    "    df, x=\"G3\", hue=\"sex\", element=\"step\",\n",
    "    stat=\"density\", common_norm=False,bins=6\n",
    ")"
   ]
  },
  {
   "cell_type": "code",
   "execution_count": 32,
   "id": "ef8a8827",
   "metadata": {
    "execution": {
     "iopub.execute_input": "2022-02-15T13:21:15.267991Z",
     "iopub.status.busy": "2022-02-15T13:21:15.266972Z",
     "iopub.status.idle": "2022-02-15T13:21:15.567197Z",
     "shell.execute_reply": "2022-02-15T13:21:15.566491Z",
     "shell.execute_reply.started": "2022-02-15T10:51:05.087837Z"
    },
    "papermill": {
     "duration": 0.469284,
     "end_time": "2022-02-15T13:21:15.567349",
     "exception": false,
     "start_time": "2022-02-15T13:21:15.098065",
     "status": "completed"
    },
    "tags": []
   },
   "outputs": [
    {
     "data": {
      "text/plain": [
       "<AxesSubplot:xlabel='G3', ylabel='Density'>"
      ]
     },
     "execution_count": 32,
     "metadata": {},
     "output_type": "execute_result"
    },
    {
     "data": {
      "image/png": "[encoded data removed]",
      "text/plain": [
       "<Figure size 432x288 with 1 Axes>"
      ]
     },
     "metadata": {},
     "output_type": "display_data"
    }
   ],
   "source": [
    "sns.histplot(\n",
    "    df, x=\"G3\", hue=\"failures\", element=\"step\",\n",
    "    stat=\"density\", common_norm=False,bins=6\n",
    ")"
   ]
  },
  {
   "cell_type": "code",
   "execution_count": 33,
   "id": "db0597e0",
   "metadata": {
    "execution": {
     "iopub.execute_input": "2022-02-15T13:21:15.896387Z",
     "iopub.status.busy": "2022-02-15T13:21:15.895385Z",
     "iopub.status.idle": "2022-02-15T13:21:16.441612Z",
     "shell.execute_reply": "2022-02-15T13:21:16.442125Z",
     "shell.execute_reply.started": "2022-02-15T10:50:48.181116Z"
    },
    "papermill": {
     "duration": 0.713301,
     "end_time": "2022-02-15T13:21:16.442336",
     "exception": false,
     "start_time": "2022-02-15T13:21:15.729035",
     "status": "completed"
    },
    "tags": []
   },
   "outputs": [
    {
     "data": {
      "text/plain": [
       "<AxesSubplot:xlabel='G3', ylabel='Density'>"
      ]
     },
     "execution_count": 33,
     "metadata": {},
     "output_type": "execute_result"
    },
    {
     "data": {
      "image/png": "[encoded data removed]",
      "text/plain": [
       "<Figure size 432x288 with 1 Axes>"
      ]
     },
     "metadata": {},
     "output_type": "display_data"
    }
   ],
   "source": [
    "sns.histplot(\n",
    "    df, x=\"G3\", hue=\"studytime\", element=\"step\",\n",
    "    stat=\"density\", common_norm=False,bins=6\n",
    ")\n"
   ]
  },
  {
   "cell_type": "markdown",
   "id": "6b1c2167",
   "metadata": {
    "papermill": {
     "duration": 0.164323,
     "end_time": "2022-02-15T13:21:16.770039",
     "exception": false,
     "start_time": "2022-02-15T13:21:16.605716",
     "status": "completed"
    },
    "tags": []
   },
   "source": [
    "# Multivarate Analysis"
   ]
  },
  {
   "cell_type": "code",
   "execution_count": 34,
   "id": "77a267ae",
   "metadata": {
    "execution": {
     "iopub.execute_input": "2022-02-15T13:21:17.138188Z",
     "iopub.status.busy": "2022-02-15T13:21:17.137171Z",
     "iopub.status.idle": "2022-02-15T13:21:17.396459Z",
     "shell.execute_reply": "2022-02-15T13:21:17.396967Z",
     "shell.execute_reply.started": "2022-02-15T10:53:08.393353Z"
    },
    "papermill": {
     "duration": 0.447309,
     "end_time": "2022-02-15T13:21:17.397160",
     "exception": false,
     "start_time": "2022-02-15T13:21:16.949851",
     "status": "completed"
    },
    "tags": []
   },
   "outputs": [
    {
     "data": {
      "image/png": "[encoded data removed]",
      "text/plain": [
       "<Figure size 432x288 with 1 Axes>"
      ]
     },
     "metadata": {},
     "output_type": "display_data"
    }
   ],
   "source": [
    "sns.histplot(\n",
    "    df,x=\"absences\", y=\"address\", hue=\"sex\", legend=True,bins=10\n",
    ");"
   ]
  },
  {
   "cell_type": "code",
   "execution_count": 35,
   "id": "0a5b856a",
   "metadata": {
    "execution": {
     "iopub.execute_input": "2022-02-15T13:21:17.739051Z",
     "iopub.status.busy": "2022-02-15T13:21:17.738229Z",
     "iopub.status.idle": "2022-02-15T13:21:18.027829Z",
     "shell.execute_reply": "2022-02-15T13:21:18.027309Z",
     "shell.execute_reply.started": "2022-02-15T10:52:41.502916Z"
    },
    "papermill": {
     "duration": 0.46649,
     "end_time": "2022-02-15T13:21:18.028006",
     "exception": false,
     "start_time": "2022-02-15T13:21:17.561516",
     "status": "completed"
    },
    "tags": []
   },
   "outputs": [
    {
     "data": {
      "image/png": "[encoded data removed]",
      "text/plain": [
       "<Figure size 432x288 with 1 Axes>"
      ]
     },
     "metadata": {},
     "output_type": "display_data"
    }
   ],
   "source": [
    "sns.histplot(\n",
    "    df,x=\"absences\", y=\"G3\", hue=\"sex\", legend=True,bins=10\n",
    ");"
   ]
  },
  {
   "cell_type": "code",
   "execution_count": 36,
   "id": "6627bbea",
   "metadata": {
    "execution": {
     "iopub.execute_input": "2022-02-15T13:21:18.367130Z",
     "iopub.status.busy": "2022-02-15T13:21:18.366426Z",
     "iopub.status.idle": "2022-02-15T13:21:18.663585Z",
     "shell.execute_reply": "2022-02-15T13:21:18.663069Z",
     "shell.execute_reply.started": "2022-02-15T10:52:47.970303Z"
    },
    "papermill": {
     "duration": 0.468404,
     "end_time": "2022-02-15T13:21:18.663730",
     "exception": false,
     "start_time": "2022-02-15T13:21:18.195326",
     "status": "completed"
    },
    "tags": []
   },
   "outputs": [
    {
     "data": {
      "image/png": "[encoded data removed]",
      "text/plain": [
       "<Figure size 432x288 with 1 Axes>"
      ]
     },
     "metadata": {},
     "output_type": "display_data"
    }
   ],
   "source": [
    "sns.histplot(\n",
    "    df,x=\"absences\", y=\"G3\", hue=\"address\", legend=True,bins=10\n",
    ");"
   ]
  },
  {
   "cell_type": "markdown",
   "id": "040c2795",
   "metadata": {
    "papermill": {
     "duration": 0.165045,
     "end_time": "2022-02-15T13:21:18.993776",
     "exception": false,
     "start_time": "2022-02-15T13:21:18.828731",
     "status": "completed"
    },
    "tags": []
   },
   "source": [
    "# Correlation between different numrical varriable"
   ]
  },
  {
   "cell_type": "code",
   "execution_count": 37,
   "id": "5ac2b9d6",
   "metadata": {
    "execution": {
     "iopub.execute_input": "2022-02-15T13:21:19.367922Z",
     "iopub.status.busy": "2022-02-15T13:21:19.367051Z",
     "iopub.status.idle": "2022-02-15T13:21:19.677352Z",
     "shell.execute_reply": "2022-02-15T13:21:19.678254Z",
     "shell.execute_reply.started": "2022-02-15T11:14:25.014986Z"
    },
    "papermill": {
     "duration": 0.515438,
     "end_time": "2022-02-15T13:21:19.678567",
     "exception": false,
     "start_time": "2022-02-15T13:21:19.163129",
     "status": "completed"
    },
    "tags": []
   },
   "outputs": [
    {
     "name": "stdout",
     "output_type": "stream",
     "text": [
      "               age  absences        G1        G2        G3\n",
      "age       1.000000  0.153196 -0.124121 -0.119475 -0.125282\n",
      "absences  0.153196  1.000000 -0.092425 -0.089332 -0.045671\n",
      "G1       -0.124121 -0.092425  1.000000  0.858739  0.809142\n",
      "G2       -0.119475 -0.089332  0.858739  1.000000  0.910743\n",
      "G3       -0.125282 -0.045671  0.809142  0.910743  1.000000\n"
     ]
    },
    {
     "data": {
      "image/png": "[encoded data removed]",
      "text/plain": [
       "<Figure size 1440x360 with 2 Axes>"
      ]
     },
     "metadata": {},
     "output_type": "display_data"
    }
   ],
   "source": [
    "print(df.corr())\n",
    "  \n",
    "# plotting correlation heatmap\n",
    "fig, ax = plt.subplots(figsize=(20,5)) \n",
    "mask = np.triu(np.ones_like(df.corr()))\n",
    "dataplot = sns.heatmap(df.corr(), cmap=\"YlGnBu\", annot=True,mask=mask,annot_kws={'size': 13},ax=ax)\n",
    "  \n",
    "# displaying heatmap\n",
    "plt.show()"
   ]
  },
  {
   "cell_type": "markdown",
   "id": "106e175f",
   "metadata": {
    "papermill": {
     "duration": 0.174721,
     "end_time": "2022-02-15T13:21:20.044445",
     "exception": false,
     "start_time": "2022-02-15T13:21:19.869724",
     "status": "completed"
    },
    "tags": []
   },
   "source": [
    "# Feature Engenering"
   ]
  },
  {
   "cell_type": "markdown",
   "id": "41da3369",
   "metadata": {
    "papermill": {
     "duration": 0.167379,
     "end_time": "2022-02-15T13:21:20.383310",
     "exception": false,
     "start_time": "2022-02-15T13:21:20.215931",
     "status": "completed"
    },
    "tags": []
   },
   "source": [
    "# Outlier removal "
   ]
  },
  {
   "cell_type": "code",
   "execution_count": 38,
   "id": "ae7ed629",
   "metadata": {
    "execution": {
     "iopub.execute_input": "2022-02-15T13:21:20.729209Z",
     "iopub.status.busy": "2022-02-15T13:21:20.728182Z",
     "iopub.status.idle": "2022-02-15T13:21:20.765415Z",
     "shell.execute_reply": "2022-02-15T13:21:20.765896Z",
     "shell.execute_reply.started": "2022-02-15T12:02:36.215892Z"
    },
    "papermill": {
     "duration": 0.215545,
     "end_time": "2022-02-15T13:21:20.766104",
     "exception": false,
     "start_time": "2022-02-15T13:21:20.550559",
     "status": "completed"
    },
    "tags": []
   },
   "outputs": [],
   "source": [
    "result = df.select_dtypes(include='number')#selecting dtypes in dataset\n",
    "\n",
    "for i in result.columns:\n",
    "    percentile25 = df[i].quantile(0.25)\n",
    "    percentile75 = df[i].quantile(0.75)\n",
    "    \n",
    "    iqr = percentile75-percentile25\n",
    "    \n",
    "    upper_limit = percentile75 + 1.5 * iqr\n",
    "    lower_limit = percentile25 - 1.5 * iqr\n",
    "    \n",
    "    df[df[i] > upper_limit]\n",
    "    df[df[i] < lower_limit]\n",
    "    \n",
    "    df_new = df[df[i] < upper_limit ]\n",
    "    df_new = df[df[i] > lower_limit ]"
   ]
  },
  {
   "cell_type": "code",
   "execution_count": 39,
   "id": "0d250afe",
   "metadata": {
    "execution": {
     "iopub.execute_input": "2022-02-15T13:21:21.104281Z",
     "iopub.status.busy": "2022-02-15T13:21:21.103320Z",
     "iopub.status.idle": "2022-02-15T13:21:21.372479Z",
     "shell.execute_reply": "2022-02-15T13:21:21.371765Z",
     "shell.execute_reply.started": "2022-02-15T12:02:40.835316Z"
    },
    "papermill": {
     "duration": 0.439838,
     "end_time": "2022-02-15T13:21:21.372641",
     "exception": false,
     "start_time": "2022-02-15T13:21:20.932803",
     "status": "completed"
    },
    "tags": []
   },
   "outputs": [
    {
     "data": {
      "text/plain": [
       "<AxesSubplot:>"
      ]
     },
     "execution_count": 39,
     "metadata": {},
     "output_type": "execute_result"
    },
    {
     "data": {
      "image/png": "[encoded data removed]",
      "text/plain": [
       "<Figure size 1440x360 with 1 Axes>"
      ]
     },
     "metadata": {},
     "output_type": "display_data"
    }
   ],
   "source": [
    "df_new.plot(kind='box',figsize=(20, 5))"
   ]
  },
  {
   "cell_type": "markdown",
   "id": "1d311d60",
   "metadata": {
    "papermill": {
     "duration": 0.169912,
     "end_time": "2022-02-15T13:21:21.712418",
     "exception": false,
     "start_time": "2022-02-15T13:21:21.542506",
     "status": "completed"
    },
    "tags": []
   },
   "source": [
    "## New datframe for Random Forest"
   ]
  },
  {
   "cell_type": "code",
   "execution_count": 40,
   "id": "3df48e9b",
   "metadata": {
    "execution": {
     "iopub.execute_input": "2022-02-15T13:21:22.070637Z",
     "iopub.status.busy": "2022-02-15T13:21:22.069633Z",
     "iopub.status.idle": "2022-02-15T13:21:22.074193Z",
     "shell.execute_reply": "2022-02-15T13:21:22.074799Z",
     "shell.execute_reply.started": "2022-02-15T12:31:17.428790Z"
    },
    "papermill": {
     "duration": 0.190821,
     "end_time": "2022-02-15T13:21:22.075009",
     "exception": false,
     "start_time": "2022-02-15T13:21:21.884188",
     "status": "completed"
    },
    "tags": []
   },
   "outputs": [],
   "source": [
    "df_rf=df_new.copy(deep=True)"
   ]
  },
  {
   "cell_type": "markdown",
   "id": "f3382d31",
   "metadata": {
    "papermill": {
     "duration": 0.169755,
     "end_time": "2022-02-15T13:21:22.416412",
     "exception": false,
     "start_time": "2022-02-15T13:21:22.246657",
     "status": "completed"
    },
    "tags": []
   },
   "source": [
    "# 1. Linner Regression Model"
   ]
  },
  {
   "cell_type": "markdown",
   "id": "670b880c",
   "metadata": {
    "papermill": {
     "duration": 0.169151,
     "end_time": "2022-02-15T13:21:22.755420",
     "exception": false,
     "start_time": "2022-02-15T13:21:22.586269",
     "status": "completed"
    },
    "tags": []
   },
   "source": [
    "# 1. Spliting Column in Train and Test set"
   ]
  },
  {
   "cell_type": "code",
   "execution_count": 41,
   "id": "bfa7af52",
   "metadata": {
    "execution": {
     "iopub.execute_input": "2022-02-15T13:21:23.101562Z",
     "iopub.status.busy": "2022-02-15T13:21:23.100560Z",
     "iopub.status.idle": "2022-02-15T13:21:23.111039Z",
     "shell.execute_reply": "2022-02-15T13:21:23.111634Z",
     "shell.execute_reply.started": "2022-02-15T11:43:39.238574Z"
    },
    "papermill": {
     "duration": 0.186224,
     "end_time": "2022-02-15T13:21:23.111834",
     "exception": false,
     "start_time": "2022-02-15T13:21:22.925610",
     "status": "completed"
    },
    "tags": []
   },
   "outputs": [],
   "source": [
    "X_train, X_test, y_train, y_test = train_test_split(df_new.drop(columns=['G1','G3','G2','absences']), \n",
    "                                                    df_new['G3'], \n",
    "                                                    test_size=.2, \n",
    "                                                    random_state=10)"
   ]
  },
  {
   "cell_type": "markdown",
   "id": "2d8b8d90",
   "metadata": {
    "papermill": {
     "duration": 0.169822,
     "end_time": "2022-02-15T13:21:23.454171",
     "exception": false,
     "start_time": "2022-02-15T13:21:23.284349",
     "status": "completed"
    },
    "tags": []
   },
   "source": [
    "# 1. Further Divide dataframe into numerical and categorical type of train dataset"
   ]
  },
  {
   "cell_type": "code",
   "execution_count": 42,
   "id": "836a3cf0",
   "metadata": {
    "execution": {
     "iopub.execute_input": "2022-02-15T13:21:23.800745Z",
     "iopub.status.busy": "2022-02-15T13:21:23.799741Z",
     "iopub.status.idle": "2022-02-15T13:21:23.812385Z",
     "shell.execute_reply": "2022-02-15T13:21:23.813152Z",
     "shell.execute_reply.started": "2022-02-15T11:45:13.337705Z"
    },
    "papermill": {
     "duration": 0.187388,
     "end_time": "2022-02-15T13:21:23.813357",
     "exception": false,
     "start_time": "2022-02-15T13:21:23.625969",
     "status": "completed"
    },
    "tags": []
   },
   "outputs": [
    {
     "name": "stdout",
     "output_type": "stream",
     "text": [
      "Categorical columns are: ['school', 'sex', 'address', 'famsize', 'Pstatus', 'Medu', 'Fedu', 'Mjob', 'Fjob', 'reason', 'guardian', 'traveltime', 'studytime', 'failures', 'schoolsup', 'famsup', 'paid', 'activities', 'nursery', 'higher', 'internet', 'romantic', 'famrel', 'freetime', 'goout', 'Dalc', 'Walc', 'health']\n",
      "Numerical columns are: ['age']\n"
     ]
    }
   ],
   "source": [
    "# Define categorical columns\n",
    "categorical = list(X_train.select_dtypes('category').columns)\n",
    "print(f\"Categorical columns are: {categorical}\")\n",
    "\n",
    "# Define numerical columns\n",
    "numerical = list(X_train.select_dtypes('number').columns)\n",
    "print(f\"Numerical columns are: {numerical}\")"
   ]
  },
  {
   "cell_type": "markdown",
   "id": "30c9cc52",
   "metadata": {
    "papermill": {
     "duration": 0.173363,
     "end_time": "2022-02-15T13:21:24.156409",
     "exception": false,
     "start_time": "2022-02-15T13:21:23.983046",
     "status": "completed"
    },
    "tags": []
   },
   "source": [
    "# 1. One Hot enconding of cat dataset"
   ]
  },
  {
   "cell_type": "code",
   "execution_count": 43,
   "id": "9c00d463",
   "metadata": {
    "execution": {
     "iopub.execute_input": "2022-02-15T13:21:24.501653Z",
     "iopub.status.busy": "2022-02-15T13:21:24.500635Z",
     "iopub.status.idle": "2022-02-15T13:21:24.504887Z",
     "shell.execute_reply": "2022-02-15T13:21:24.505501Z",
     "shell.execute_reply.started": "2022-02-15T11:49:20.189315Z"
    },
    "papermill": {
     "duration": 0.179018,
     "end_time": "2022-02-15T13:21:24.505690",
     "exception": false,
     "start_time": "2022-02-15T13:21:24.326672",
     "status": "completed"
    },
    "tags": []
   },
   "outputs": [],
   "source": [
    "cat_pipe = Pipeline([\n",
    "    ('encoder', OneHotEncoder(handle_unknown='ignore', sparse=False))\n",
    "])"
   ]
  },
  {
   "cell_type": "markdown",
   "id": "053aaeba",
   "metadata": {
    "papermill": {
     "duration": 0.170418,
     "end_time": "2022-02-15T13:21:24.846612",
     "exception": false,
     "start_time": "2022-02-15T13:21:24.676194",
     "status": "completed"
    },
    "tags": []
   },
   "source": [
    "# 1. Scaling of numerical dataset"
   ]
  },
  {
   "cell_type": "code",
   "execution_count": 44,
   "id": "61d9af4c",
   "metadata": {
    "execution": {
     "iopub.execute_input": "2022-02-15T13:21:25.199105Z",
     "iopub.status.busy": "2022-02-15T13:21:25.198142Z",
     "iopub.status.idle": "2022-02-15T13:21:25.202080Z",
     "shell.execute_reply": "2022-02-15T13:21:25.202683Z",
     "shell.execute_reply.started": "2022-02-15T11:51:33.088358Z"
    },
    "papermill": {
     "duration": 0.182456,
     "end_time": "2022-02-15T13:21:25.202876",
     "exception": false,
     "start_time": "2022-02-15T13:21:25.020420",
     "status": "completed"
    },
    "tags": []
   },
   "outputs": [],
   "source": [
    "from sklearn.preprocessing import Normalizer"
   ]
  },
  {
   "cell_type": "code",
   "execution_count": 45,
   "id": "5dc06cbc",
   "metadata": {
    "execution": {
     "iopub.execute_input": "2022-02-15T13:21:25.548745Z",
     "iopub.status.busy": "2022-02-15T13:21:25.547750Z",
     "iopub.status.idle": "2022-02-15T13:21:25.551888Z",
     "shell.execute_reply": "2022-02-15T13:21:25.552451Z",
     "shell.execute_reply.started": "2022-02-15T11:51:36.165104Z"
    },
    "papermill": {
     "duration": 0.179051,
     "end_time": "2022-02-15T13:21:25.552643",
     "exception": false,
     "start_time": "2022-02-15T13:21:25.373592",
     "status": "completed"
    },
    "tags": []
   },
   "outputs": [],
   "source": [
    "num_pipe = Pipeline([('scaler', Normalizer())])"
   ]
  },
  {
   "cell_type": "markdown",
   "id": "d870db03",
   "metadata": {
    "papermill": {
     "duration": 0.17163,
     "end_time": "2022-02-15T13:21:25.896142",
     "exception": false,
     "start_time": "2022-02-15T13:21:25.724512",
     "status": "completed"
    },
    "tags": []
   },
   "source": [
    "# 1. Combining of both categorical and numerical pipeline"
   ]
  },
  {
   "cell_type": "code",
   "execution_count": 46,
   "id": "1d60092f",
   "metadata": {
    "execution": {
     "iopub.execute_input": "2022-02-15T13:21:26.248391Z",
     "iopub.status.busy": "2022-02-15T13:21:26.247300Z",
     "iopub.status.idle": "2022-02-15T13:21:26.249363Z",
     "shell.execute_reply": "2022-02-15T13:21:26.250000Z",
     "shell.execute_reply.started": "2022-02-15T11:52:32.434792Z"
    },
    "papermill": {
     "duration": 0.181433,
     "end_time": "2022-02-15T13:21:26.250194",
     "exception": false,
     "start_time": "2022-02-15T13:21:26.068761",
     "status": "completed"
    },
    "tags": []
   },
   "outputs": [],
   "source": [
    "# Combine categorical and numerical pipelines\n",
    "preprocessor = ColumnTransformer([\n",
    "    ('cat', cat_pipe, categorical),\n",
    "    ('num', num_pipe, numerical)\n",
    "])"
   ]
  },
  {
   "cell_type": "markdown",
   "id": "77f677d8",
   "metadata": {
    "papermill": {
     "duration": 0.17,
     "end_time": "2022-02-15T13:21:26.590845",
     "exception": false,
     "start_time": "2022-02-15T13:21:26.420845",
     "status": "completed"
    },
    "tags": []
   },
   "source": [
    "# 1.Fixing Pipeline on Linner regression"
   ]
  },
  {
   "cell_type": "code",
   "execution_count": 47,
   "id": "5a0654e4",
   "metadata": {
    "execution": {
     "iopub.execute_input": "2022-02-15T13:21:26.940704Z",
     "iopub.status.busy": "2022-02-15T13:21:26.940001Z",
     "iopub.status.idle": "2022-02-15T13:21:27.093818Z",
     "shell.execute_reply": "2022-02-15T13:21:27.094716Z",
     "shell.execute_reply.started": "2022-02-15T11:55:50.260966Z"
    },
    "papermill": {
     "duration": 0.333466,
     "end_time": "2022-02-15T13:21:27.095049",
     "exception": false,
     "start_time": "2022-02-15T13:21:26.761583",
     "status": "completed"
    },
    "tags": []
   },
   "outputs": [
    {
     "data": {
      "text/plain": [
       "Pipeline(steps=[('preprocessor',\n",
       "                 ColumnTransformer(transformers=[('cat',\n",
       "                                                  Pipeline(steps=[('encoder',\n",
       "                                                                   OneHotEncoder(handle_unknown='ignore',\n",
       "                                                                                 sparse=False))]),\n",
       "                                                  ['school', 'sex', 'address',\n",
       "                                                   'famsize', 'Pstatus', 'Medu',\n",
       "                                                   'Fedu', 'Mjob', 'Fjob',\n",
       "                                                   'reason', 'guardian',\n",
       "                                                   'traveltime', 'studytime',\n",
       "                                                   'failures', 'schoolsup',\n",
       "                                                   'famsup', 'paid',\n",
       "                                                   'activities', 'nursery',\n",
       "                                                   'higher', 'internet',\n",
       "                                                   'romantic', 'famrel',\n",
       "                                                   'freetime', 'goout', 'Dalc',\n",
       "                                                   'Walc', 'health']),\n",
       "                                                 ('num',\n",
       "                                                  Pipeline(steps=[('scaler',\n",
       "                                                                   Normalizer())]),\n",
       "                                                  ['age'])])),\n",
       "                ('model', LinearRegression())])"
      ]
     },
     "execution_count": 47,
     "metadata": {},
     "output_type": "execute_result"
    }
   ],
   "source": [
    "pipe = Pipeline([\n",
    "    ('preprocessor', preprocessor),\n",
    "    ('model', LinearRegression())\n",
    "])\n",
    "\n",
    "pipe.fit(X_train, y_train)"
   ]
  },
  {
   "cell_type": "markdown",
   "id": "988b54d4",
   "metadata": {
    "papermill": {
     "duration": 0.170532,
     "end_time": "2022-02-15T13:21:27.439734",
     "exception": false,
     "start_time": "2022-02-15T13:21:27.269202",
     "status": "completed"
    },
    "tags": []
   },
   "source": [
    "# 1. Predict training data"
   ]
  },
  {
   "cell_type": "code",
   "execution_count": 48,
   "id": "d13ea4d4",
   "metadata": {
    "execution": {
     "iopub.execute_input": "2022-02-15T13:21:27.792531Z",
     "iopub.status.busy": "2022-02-15T13:21:27.791842Z",
     "iopub.status.idle": "2022-02-15T13:21:27.833985Z",
     "shell.execute_reply": "2022-02-15T13:21:27.835686Z",
     "shell.execute_reply.started": "2022-02-15T11:55:58.862535Z"
    },
    "papermill": {
     "duration": 0.223488,
     "end_time": "2022-02-15T13:21:27.836118",
     "exception": false,
     "start_time": "2022-02-15T13:21:27.612630",
     "status": "completed"
    },
    "tags": []
   },
   "outputs": [
    {
     "name": "stdout",
     "output_type": "stream",
     "text": [
      "Predictions on training data: [11.5   13.    12.25  11.875 11.375  8.125 13.625  9.375 14.375 12.375\n",
      " 13.25  12.    13.    13.25  15.625 11.875  9.125 12.    12.25  13.125\n",
      " 10.625 10.25  13.125 13.25  13.75  12.5    9.75  11.    10.125  8.125\n",
      " 11.375 11.25  14.    12.75   9.875 14.75  14.5   13.625 14.375 10.75\n",
      " 13.875 10.625 13.25  12.375 11.875 11.625  8.5   12.625  5.375 13.5\n",
      " 12.25   8.875 13.375 12.375  9.75  14.    14.375 13.5   10.875 14.625\n",
      " 10.875 13.5   10.25  12.25  13.    12.25  12.875 11.75  14.875  9.25\n",
      " 10.5   12.875  8.375  9.5   13.375 13.25  10.25  11.375  9.125 12.625\n",
      " 10.125 11.125 10.625 13.625 13.25   8.625 11.    14.125 14.375 12.625\n",
      " 12.875 10.5   13.125 12.625 13.25  12.875 14.25   9.125  5.375 15.125\n",
      " 14.125 12.5   14.125 12.5   12.5   10.625 15.125 12.625 12.5   10.5\n",
      " 13.375 12.125 11.375 13.    10.5   11.    12.125 11.375 13.125 13.75\n",
      " 12.625 11.125 12.375 10.625 14.125  9.125 10.    12.625 12.125 12.75\n",
      " 14.125 12.5   14.    11.875 12.875 14.5   12.125 11.625 10.625 12.375\n",
      " 12.75  11.875 11.125 12.75  12.75   9.25  16.25  13.25  14.625 12.375\n",
      " 10.375 13.75  14.125 13.125 12.875 16.25  15.875 10.25  12.375 12.5\n",
      "  7.375 12.    12.625 11.5   10.875 11.875 13.875 10.    10.75   5.375\n",
      " 13.75  14.375 13.75  12.125 10.625 13.5   13.625 13.625 12.125 15.875\n",
      " 10.25  15.    12.75  11.125 14.125 11.5   10.625 12.375 13.375 13.75\n",
      " 10.625 10.625 10.625 11.125 13.125 13.5   11.875 15.625 10.875 12.625\n",
      " 14.     9.5    8.125 11.25  13.25  10.875 14.625 10.5   15.625 11.125\n",
      " 11.875 11.875 11.875 16.125 13.    13.25  13.375 11.5   11.875 10.25\n",
      "  6.375 11.625 13.625 11.625  9.875 10.875 12.875 13.25  10.375 13.125\n",
      " 13.875 13.25  10.125 11.625 13.375 10.375 12.375 14.125 13.25  12.5\n",
      " 11.375 11.875  8.125 12.25   7.625 10.125 12.375 14.    14.375 12.25\n",
      " 11.625 10.625 10.    13.375  8.625 14.5   13.625 11.625 10.25  11.\n",
      " 11.375  9.75  12.125 12.875 15.375 13.5   10.875 14.5   14.875  9.25\n",
      " 12.375 12.75  14.125 12.75  13.125 13.125 13.875 12.625 11.875  8.625\n",
      " 11.625 15.25  13.875 16.125  9.625 12.375 11.625 12.375 13.125 13.625\n",
      " 10.125 13.625 12.375 12.875 13.25  13.375 13.125 12.75  12.625 12.\n",
      " 12.5   11.125 11.625 12.75  12.625 11.25  12.625 13.125 11.375 12.25\n",
      " 13.125 10.625 13.375 13.125 12.5    9.625 12.375 12.375 13.625 12.125\n",
      " 10.25   9.125 11.625 13.375 12.375 11.    10.25  12.875 14.125 10.75\n",
      " 13.125 12.25  10.875 11.625  8.     8.875  9.125 11.625 13.875 12.125\n",
      " 14.    13.375  8.125 13.75  13.375 14.5   14.625 10.625 12.625 12.875\n",
      "  9.    11.375 14.75  11.25   9.875 11.125 14.75  14.375 14.25  13.625\n",
      "  9.5   13.625 11.25  10.375 10.5   15.    11.875 12.25  11.875 11.125\n",
      " 13.625 12.625 11.75  11.5   10.875  8.625 12.125 13.375 13.125  9.125\n",
      " 12.875 13.375 10.125 10.25  12.25  10.875  8.375 12.5   11.625 12.625\n",
      " 12.375 12.5   11.625 12.75  11.625 12.75  12.     9.125 11.75  10.5\n",
      " 12.375 13.625 10.125 13.125 12.375  8.375  6.25  12.    15.375 14.125\n",
      "  8.625 13.875 14.125 11.125 12.875 11.     9.375 11.375 13.125 14.375\n",
      "  8.375 12.875 12.875 11.625 13.625 12.875 13.125 13.125 13.375 12.25\n",
      " 10.625  7.5   10.    12.625 11.75  13.25  13.125 13.25  10.625  7.25\n",
      "  7.5   14.125 13.375 11.375 12.625 11.75  12.125 12.375 11.875  9.875\n",
      " 12.125 12.875 11.    11.125 12.625 15.25  14.    11.875 11.875 11.25\n",
      "  9.625 12.125  8.5   15.    10.375 11.75  13.25  12.375 11.375 11.625\n",
      " 11.     9.75  11.625 13.5   12.25  10.375 12.625 14.25  11.625 13.\n",
      " 12.625 13.75  12.25  12.875 10.25  13.375 13.625 12.625 11.375 13.125\n",
      " 12.    13.125 12.375 12.875 12.625 13.875 12.75  11.5   12.125 13.75\n",
      " 14.375 12.25   9.75  13.    11.125 15.875 13.125  9.375 12.25   9.375\n",
      "  9.375 10.75  12.5   12.875 10.375 10.125 10.875 12.5   13.125 13.5\n",
      " 12.375  9.625 12.875 14.75   9.625 14.625 14.125 13.125 10.875 12.375\n",
      " 14.125 14.625 11.    12.125 12.125  8.5   10.875  9.875 10.125 11.25\n",
      " 12.625 11.125 12.125 11.375 12.375 13.375 12.125  5.375  9.625 14.5\n",
      " 11.625 12.625 11.875 10.875 15.125 11.875 10.125 11.125 12.875 13.\n",
      " 10.125  9.375 11.875 11.125 12.125 12.5   11.375 11.875 12.375  8.375\n",
      " 14.625 12.875 11.625 12.875 12.375 11.375 13.375 14.125 10.25  14.625\n",
      "  9.25   9.625  8.125 13.25  12.625 12.    13.25  12.25  13.625 13.125\n",
      " 12.625 14.375 12.    13.375 12.125 13.25  10.5   15.125 12.125 10.625\n",
      " 10.625 13.375 12.125 12.5   13.625  9.125 11.75  13.    13.125 11.875\n",
      " 11.875 11.5    9.875 13.625 14.125 13.75  10.5   10.875 11.125 11.5\n",
      " 11.875 13.125 12.25  12.75  10.25  12.5   12.375  9.375 13.125 10.\n",
      " 11.375 10.5   14.125 11.625 11.625 14.5   12.25  12.625  9.125 14.75\n",
      " 10.125 10.375 12.875 12.875 12.375 13.875 12.25  13.    11.375 13.25\n",
      " 12.375 14.5    9.875 14.5   14.25   8.25  12.625 10.875 12.    12.625\n",
      " 13.125 12.125 13.625 13.5   11.125 10.375 11.625 13.375 14.5   12.125\n",
      " 13.375 13.25  12.5    9.125 11.375 14.625 13.5   13.125 11.125  9.875\n",
      " 12.25   9.125 12.25  12.375 11.75  12.5   13.    10.875 12.125  8.875\n",
      " 13.375 13.25  12.875 10.75  13.625 13.375 11.875 12.875 12.375 12.75\n",
      " 11.625 14.    14.875  9.875 11.875  8.25  11.    11.875  8.375  9.125\n",
      " 14.375 13.375 10.125 10.25  16.125 12.5   13.125 12.75   9.25  14.375\n",
      "  8.875 13.125 13.625 13.    11.625 13.375 12.75  14.875 12.625  8.375\n",
      " 13.375  8.375 10.125 13.     7.25  13.25  10.375 13.125 10.125 12.375\n",
      " 11.625 12.375 12.125 11.25  14.625 14.125 13.75   8.75  11.625 11.375\n",
      "  9.75  12.5    9.25  12.375 11.25  11.5   12.625 12.    14.625 15.625\n",
      "  8.375 13.125 12.875 14.125 12.25  11.125 13.125 10.75  10.    14.375\n",
      " 11.     8.25  12.75  10.75   9.25  10.375 11.375 12.625 12.625 14.\n",
      " 11.375 11.5   11.25  10.5   12.25  11.625 12.25  11.625 10.75  10.5\n",
      " 13.75 ]\n"
     ]
    }
   ],
   "source": [
    "y_train_pred = pipe.predict(X_train)\n",
    "print(f\"Predictions on training data: {y_train_pred}\")"
   ]
  },
  {
   "cell_type": "markdown",
   "id": "23e6d258",
   "metadata": {
    "papermill": {
     "duration": 0.170653,
     "end_time": "2022-02-15T13:21:28.257364",
     "exception": false,
     "start_time": "2022-02-15T13:21:28.086711",
     "status": "completed"
    },
    "tags": []
   },
   "source": [
    "# 1.Predict test data"
   ]
  },
  {
   "cell_type": "code",
   "execution_count": 49,
   "id": "764d0193",
   "metadata": {
    "execution": {
     "iopub.execute_input": "2022-02-15T13:21:28.702285Z",
     "iopub.status.busy": "2022-02-15T13:21:28.701565Z",
     "iopub.status.idle": "2022-02-15T13:21:28.731198Z",
     "shell.execute_reply": "2022-02-15T13:21:28.732287Z",
     "shell.execute_reply.started": "2022-02-15T11:56:39.167197Z"
    },
    "papermill": {
     "duration": 0.209235,
     "end_time": "2022-02-15T13:21:28.732785",
     "exception": false,
     "start_time": "2022-02-15T13:21:28.523550",
     "status": "completed"
    },
    "tags": []
   },
   "outputs": [
    {
     "name": "stdout",
     "output_type": "stream",
     "text": [
      "Predictions on test data: [11.125 12.25  14.125 13.625 13.5   12.625 13.625 10.125 13.875 15.5\n",
      " 11.5   13.125 14.625 13.    12.5   10.375 12.75  11.375 13.    10.75\n",
      " 12.625  8.5   13.375 13.875 13.75  10.375 10.875 12.25  12.625 14.\n",
      " 12.5   12.625 11.5    9.875 10.5   10.25  11.75   9.75  14.875 12.625\n",
      " 12.875 12.75   8.375 11.75  12.    14.75  13.625  8.625 12.125 11.625\n",
      " 13.875 13.125  6.875 12.5   14.625 11.125 11.375 12.625 14.125 14.375\n",
      " 13.375 13.875 12.375 13.25  11.625 14.625 11.625  9.5   11.875 12.5\n",
      " 11.    13.75  11.75  11.875 10.625  9.375 13.75  12.875 11.875 13.375\n",
      "  8.75  13.     9.5   10.125 12.375 13.625 10.375 11.125 12.    14.5\n",
      " 12.625 10.375 12.75  10.25  10.75  11.375 13.625 14.875 11.25  12.5\n",
      "  8.375 12.625 11.875 11.875 13.875 11.875 13.625 13.375 12.625 13.875\n",
      " 10.375 13.5   12.5   10.25  12.5   11.625 10.125 12.5   10.75  12.5\n",
      " 13.375 10.375 14.5   11.375 15.625 13.75  13.375 12.125 12.375 13.875\n",
      " 10.     8.625  8.75  12.375 10.25  11.25  14.     7.5   14.    10.375\n",
      "  7.625 12.    12.375 12.    11.75  10.875 10.375  8.125 14.25  11.75\n",
      " 12.    13.625 11.75  12.875 12.25   9.625 13.125 10.375 12.875 11.625\n",
      " 11.75  11.25  13.875 11.125 14.125 10.625  9.875 11.875 11.5   11.625\n",
      " 12.875 12.625 12.    11.125 12.75  13.375  8.875 11.25   9.375 14.5\n",
      " 13.    13.875 12.125 12.375 11.125 10.25  15.    10.125  9.125  7.625\n",
      " 11.625 13.125 11.125 10.875 14.75  13.5    8.     9.875]\n"
     ]
    }
   ],
   "source": [
    "y_test_pred = pipe.predict(X_test)\n",
    "print(f\"Predictions on test data: {y_test_pred}\")"
   ]
  },
  {
   "cell_type": "markdown",
   "id": "6aba1f3c",
   "metadata": {
    "papermill": {
     "duration": 0.174361,
     "end_time": "2022-02-15T13:21:29.130181",
     "exception": false,
     "start_time": "2022-02-15T13:21:28.955820",
     "status": "completed"
    },
    "tags": []
   },
   "source": [
    "# 1.Check r square value"
   ]
  },
  {
   "cell_type": "code",
   "execution_count": 50,
   "id": "bf2fd5e4",
   "metadata": {
    "execution": {
     "iopub.execute_input": "2022-02-15T13:21:29.491426Z",
     "iopub.status.busy": "2022-02-15T13:21:29.490689Z",
     "iopub.status.idle": "2022-02-15T13:21:29.494356Z",
     "shell.execute_reply": "2022-02-15T13:21:29.493703Z",
     "shell.execute_reply.started": "2022-02-15T11:57:54.524628Z"
    },
    "papermill": {
     "duration": 0.183997,
     "end_time": "2022-02-15T13:21:29.494510",
     "exception": false,
     "start_time": "2022-02-15T13:21:29.310513",
     "status": "completed"
    },
    "tags": []
   },
   "outputs": [
    {
     "name": "stdout",
     "output_type": "stream",
     "text": [
      "r2 score for a  model is 0.1858811433534281\n"
     ]
    }
   ],
   "source": [
    "r2 = r2_score(y_test, y_test_pred)\n",
    "print('r2 score for a  model is', r2)"
   ]
  },
  {
   "cell_type": "markdown",
   "id": "f99ce7c7",
   "metadata": {
    "papermill": {
     "duration": 0.17361,
     "end_time": "2022-02-15T13:21:29.847459",
     "exception": false,
     "start_time": "2022-02-15T13:21:29.673849",
     "status": "completed"
    },
    "tags": []
   },
   "source": [
    "# 2. Fitting Random Forest"
   ]
  },
  {
   "cell_type": "markdown",
   "id": "a70f0f22",
   "metadata": {
    "papermill": {
     "duration": 0.181744,
     "end_time": "2022-02-15T13:21:30.206718",
     "exception": false,
     "start_time": "2022-02-15T13:21:30.024974",
     "status": "completed"
    },
    "tags": []
   },
   "source": [
    "# 2. Spliting dataset in Train and Test set"
   ]
  },
  {
   "cell_type": "code",
   "execution_count": 51,
   "id": "cd71cebc",
   "metadata": {
    "execution": {
     "iopub.execute_input": "2022-02-15T13:21:30.566032Z",
     "iopub.status.busy": "2022-02-15T13:21:30.565340Z",
     "iopub.status.idle": "2022-02-15T13:21:30.571933Z",
     "shell.execute_reply": "2022-02-15T13:21:30.571381Z",
     "shell.execute_reply.started": "2022-02-15T12:31:28.935746Z"
    },
    "papermill": {
     "duration": 0.188118,
     "end_time": "2022-02-15T13:21:30.572087",
     "exception": false,
     "start_time": "2022-02-15T13:21:30.383969",
     "status": "completed"
    },
    "tags": []
   },
   "outputs": [],
   "source": [
    "X_train_n, X_test_n, y_train_n, y_test_n = train_test_split(df_rf.drop(columns=['G1','G3','G2', 'address', \n",
    "                                                                                'famsize', 'guardian', 'traveltime','absences','romantic']), \n",
    "                                                    df_rf['G3'], \n",
    "                                                    test_size=.2, \n",
    "                                                    random_state=10)"
   ]
  },
  {
   "cell_type": "markdown",
   "id": "fa1d1189",
   "metadata": {
    "papermill": {
     "duration": 0.174792,
     "end_time": "2022-02-15T13:21:30.919325",
     "exception": false,
     "start_time": "2022-02-15T13:21:30.744533",
     "status": "completed"
    },
    "tags": []
   },
   "source": [
    "# 2. Define categorical columns"
   ]
  },
  {
   "cell_type": "code",
   "execution_count": 52,
   "id": "382d6a34",
   "metadata": {
    "execution": {
     "iopub.execute_input": "2022-02-15T13:21:31.271364Z",
     "iopub.status.busy": "2022-02-15T13:21:31.270669Z",
     "iopub.status.idle": "2022-02-15T13:21:31.279179Z",
     "shell.execute_reply": "2022-02-15T13:21:31.279694Z",
     "shell.execute_reply.started": "2022-02-15T12:31:33.690358Z"
    },
    "papermill": {
     "duration": 0.186504,
     "end_time": "2022-02-15T13:21:31.279898",
     "exception": false,
     "start_time": "2022-02-15T13:21:31.093394",
     "status": "completed"
    },
    "tags": []
   },
   "outputs": [
    {
     "name": "stdout",
     "output_type": "stream",
     "text": [
      "Categorical columns are: ['school', 'sex', 'Pstatus', 'Medu', 'Fedu', 'Mjob', 'Fjob', 'reason', 'studytime', 'failures', 'schoolsup', 'famsup', 'paid', 'activities', 'nursery', 'higher', 'internet', 'famrel', 'freetime', 'goout', 'Dalc', 'Walc', 'health']\n"
     ]
    }
   ],
   "source": [
    "categorical_n = list(X_train_n.select_dtypes('category').columns)\n",
    "print(f\"Categorical columns are: {categorical_n}\")"
   ]
  },
  {
   "cell_type": "markdown",
   "id": "05b2027f",
   "metadata": {
    "papermill": {
     "duration": 0.175821,
     "end_time": "2022-02-15T13:21:31.629090",
     "exception": false,
     "start_time": "2022-02-15T13:21:31.453269",
     "status": "completed"
    },
    "tags": []
   },
   "source": [
    "# 2. Define numerical columns"
   ]
  },
  {
   "cell_type": "code",
   "execution_count": 53,
   "id": "15fa15a5",
   "metadata": {
    "execution": {
     "iopub.execute_input": "2022-02-15T13:21:31.986502Z",
     "iopub.status.busy": "2022-02-15T13:21:31.985810Z",
     "iopub.status.idle": "2022-02-15T13:21:31.993503Z",
     "shell.execute_reply": "2022-02-15T13:21:31.994024Z",
     "shell.execute_reply.started": "2022-02-15T12:31:37.847111Z"
    },
    "papermill": {
     "duration": 0.191421,
     "end_time": "2022-02-15T13:21:31.994229",
     "exception": false,
     "start_time": "2022-02-15T13:21:31.802808",
     "status": "completed"
    },
    "tags": []
   },
   "outputs": [
    {
     "name": "stdout",
     "output_type": "stream",
     "text": [
      "Numerical columns are: ['age']\n"
     ]
    }
   ],
   "source": [
    "numerical_n = list(X_train_n.select_dtypes('number').columns)\n",
    "print(f\"Numerical columns are: {numerical_n}\")"
   ]
  },
  {
   "cell_type": "markdown",
   "id": "fea0014e",
   "metadata": {
    "papermill": {
     "duration": 0.177259,
     "end_time": "2022-02-15T13:21:32.347476",
     "exception": false,
     "start_time": "2022-02-15T13:21:32.170217",
     "status": "completed"
    },
    "tags": []
   },
   "source": [
    "# 2. OHE encoding "
   ]
  },
  {
   "cell_type": "code",
   "execution_count": 54,
   "id": "2dcc4b27",
   "metadata": {
    "execution": {
     "iopub.execute_input": "2022-02-15T13:21:32.704400Z",
     "iopub.status.busy": "2022-02-15T13:21:32.703657Z",
     "iopub.status.idle": "2022-02-15T13:21:32.705768Z",
     "shell.execute_reply": "2022-02-15T13:21:32.705206Z",
     "shell.execute_reply.started": "2022-02-15T12:31:42.090883Z"
    },
    "papermill": {
     "duration": 0.183241,
     "end_time": "2022-02-15T13:21:32.705940",
     "exception": false,
     "start_time": "2022-02-15T13:21:32.522699",
     "status": "completed"
    },
    "tags": []
   },
   "outputs": [],
   "source": [
    "cat_pipe_n = Pipeline([\n",
    "    ('encoder', OneHotEncoder(handle_unknown='ignore', sparse=False))\n",
    "])"
   ]
  },
  {
   "cell_type": "markdown",
   "id": "e08f2126",
   "metadata": {
    "papermill": {
     "duration": 0.174538,
     "end_time": "2022-02-15T13:21:33.055700",
     "exception": false,
     "start_time": "2022-02-15T13:21:32.881162",
     "status": "completed"
    },
    "tags": []
   },
   "source": [
    "# 2. Normelization"
   ]
  },
  {
   "cell_type": "code",
   "execution_count": 55,
   "id": "3fa855b9",
   "metadata": {
    "execution": {
     "iopub.execute_input": "2022-02-15T13:21:33.409286Z",
     "iopub.status.busy": "2022-02-15T13:21:33.408543Z",
     "iopub.status.idle": "2022-02-15T13:21:33.411865Z",
     "shell.execute_reply": "2022-02-15T13:21:33.412397Z",
     "shell.execute_reply.started": "2022-02-15T12:31:46.479289Z"
    },
    "papermill": {
     "duration": 0.180761,
     "end_time": "2022-02-15T13:21:33.412597",
     "exception": false,
     "start_time": "2022-02-15T13:21:33.231836",
     "status": "completed"
    },
    "tags": []
   },
   "outputs": [],
   "source": [
    "num_pipe_n = Pipeline([('scaler', Normalizer())])"
   ]
  },
  {
   "cell_type": "markdown",
   "id": "62ed3ef9",
   "metadata": {
    "papermill": {
     "duration": 0.173555,
     "end_time": "2022-02-15T13:21:33.761584",
     "exception": false,
     "start_time": "2022-02-15T13:21:33.588029",
     "status": "completed"
    },
    "tags": []
   },
   "source": [
    "# 2. Combine categorical and numerical pipelines"
   ]
  },
  {
   "cell_type": "code",
   "execution_count": 56,
   "id": "a1d1e494",
   "metadata": {
    "execution": {
     "iopub.execute_input": "2022-02-15T13:21:34.118606Z",
     "iopub.status.busy": "2022-02-15T13:21:34.117970Z",
     "iopub.status.idle": "2022-02-15T13:21:34.121798Z",
     "shell.execute_reply": "2022-02-15T13:21:34.122318Z",
     "shell.execute_reply.started": "2022-02-15T12:32:06.016533Z"
    },
    "papermill": {
     "duration": 0.184616,
     "end_time": "2022-02-15T13:21:34.122504",
     "exception": false,
     "start_time": "2022-02-15T13:21:33.937888",
     "status": "completed"
    },
    "tags": []
   },
   "outputs": [],
   "source": [
    "preprocessor_n = ColumnTransformer([\n",
    "    ('cat', cat_pipe_n, categorical_n),\n",
    "    ('num', num_pipe_n, numerical_n)\n",
    "])"
   ]
  },
  {
   "cell_type": "markdown",
   "id": "d1972cbd",
   "metadata": {
    "papermill": {
     "duration": 0.175934,
     "end_time": "2022-02-15T13:21:34.472612",
     "exception": false,
     "start_time": "2022-02-15T13:21:34.296678",
     "status": "completed"
    },
    "tags": []
   },
   "source": [
    "# 2. Fit a pipeline with transformers and an estimator to the training data"
   ]
  },
  {
   "cell_type": "code",
   "execution_count": 57,
   "id": "2d447d31",
   "metadata": {
    "execution": {
     "iopub.execute_input": "2022-02-15T13:21:34.833861Z",
     "iopub.status.busy": "2022-02-15T13:21:34.828755Z",
     "iopub.status.idle": "2022-02-15T13:21:35.463020Z",
     "shell.execute_reply": "2022-02-15T13:21:35.463537Z",
     "shell.execute_reply.started": "2022-02-15T12:32:10.772608Z"
    },
    "papermill": {
     "duration": 0.815233,
     "end_time": "2022-02-15T13:21:35.463739",
     "exception": false,
     "start_time": "2022-02-15T13:21:34.648506",
     "status": "completed"
    },
    "tags": []
   },
   "outputs": [
    {
     "data": {
      "text/plain": [
       "Pipeline(steps=[('preprocessor',\n",
       "                 ColumnTransformer(transformers=[('cat',\n",
       "                                                  Pipeline(steps=[('encoder',\n",
       "                                                                   OneHotEncoder(handle_unknown='ignore',\n",
       "                                                                                 sparse=False))]),\n",
       "                                                  ['school', 'sex', 'Pstatus',\n",
       "                                                   'Medu', 'Fedu', 'Mjob',\n",
       "                                                   'Fjob', 'reason',\n",
       "                                                   'studytime', 'failures',\n",
       "                                                   'schoolsup', 'famsup',\n",
       "                                                   'paid', 'activities',\n",
       "                                                   'nursery', 'higher',\n",
       "                                                   'internet', 'famrel',\n",
       "                                                   'freetime', 'goout', 'Dalc',\n",
       "                                                   'Walc', 'health']),\n",
       "                                                 ('num',\n",
       "                                                  Pipeline(steps=[('scaler',\n",
       "                                                                   Normalizer())]),\n",
       "                                                  ['age'])])),\n",
       "                ('model', RandomForestRegressor(max_depth=10, random_state=8))])"
      ]
     },
     "execution_count": 57,
     "metadata": {},
     "output_type": "execute_result"
    }
   ],
   "source": [
    "pipe_n = Pipeline([\n",
    "    ('preprocessor', preprocessor_n),\n",
    "    ('model', RandomForestRegressor(max_depth=10, random_state=8))])\n",
    "pipe_n.fit(X_train_n, y_train_n)"
   ]
  },
  {
   "cell_type": "markdown",
   "id": "162da9d6",
   "metadata": {
    "papermill": {
     "duration": 0.176024,
     "end_time": "2022-02-15T13:21:35.819092",
     "exception": false,
     "start_time": "2022-02-15T13:21:35.643068",
     "status": "completed"
    },
    "tags": []
   },
   "source": [
    "# 2.Predict training data"
   ]
  },
  {
   "cell_type": "code",
   "execution_count": 58,
   "id": "ce033ca3",
   "metadata": {
    "execution": {
     "iopub.execute_input": "2022-02-15T13:21:36.178789Z",
     "iopub.status.busy": "2022-02-15T13:21:36.174872Z",
     "iopub.status.idle": "2022-02-15T13:21:36.219331Z",
     "shell.execute_reply": "2022-02-15T13:21:36.220081Z",
     "shell.execute_reply.started": "2022-02-15T12:32:16.222461Z"
    },
    "papermill": {
     "duration": 0.225079,
     "end_time": "2022-02-15T13:21:36.220344",
     "exception": false,
     "start_time": "2022-02-15T13:21:35.995265",
     "status": "completed"
    },
    "tags": []
   },
   "outputs": [
    {
     "name": "stdout",
     "output_type": "stream",
     "text": [
      "Predictions on training data: [11.44844442 12.16866218 12.3420182  12.93995774 10.99796344 11.04163345\n",
      " 14.09874619  9.76070324 14.55417281 11.96607762 12.547614   11.02500301\n",
      " 13.27098187 11.0857898  14.97112435 12.84551826 11.6567909  11.91279278\n",
      " 10.37753733 11.5646508  11.44402564 10.9279058  12.28455033 12.84575118\n",
      " 12.94740878 13.14159128  8.94143666  9.49830952  9.19117982  8.52272159\n",
      " 11.76688513  8.85880016 14.0670276  13.30128102  9.14173351 14.20085097\n",
      " 13.63533876 11.17499363 14.7574938  11.44734993 12.21202    10.12655786\n",
      " 12.26094055 13.30103164 12.51942045 12.35997513  9.50602937 11.8852619\n",
      "  7.76947803 14.70611332  9.12566756  8.27342885 12.79876866 11.56595207\n",
      "  8.54253996 14.11741437 14.78788117 14.3531602  12.11029094 15.69104125\n",
      " 10.36852749 10.36075989  8.24117688 12.34577824 13.93697299 11.74644434\n",
      " 10.47334099 10.12844838 14.51983132  6.71217172 12.48743399 12.7105752\n",
      " 11.41250669 10.24281644 12.09880939 11.42226789  8.24117688 11.79021941\n",
      "  7.11945238 11.99814764 10.8753111  10.27088297 12.72996429 13.44836087\n",
      " 12.73734814  8.8861205  12.13299995 15.10605422 14.49659299  9.91615417\n",
      " 12.46554841 10.21196312 14.65544598 15.35336318 13.69453495 13.69276962\n",
      " 14.59712163  9.23353978 10.06410624 14.72071609 13.92700092 12.32683908\n",
      " 13.16649879 11.19047194 11.81279626 12.22070442 13.2843893  12.09144086\n",
      " 11.00533729  8.40088665 13.05413902 11.91550044 12.13178785 12.96552472\n",
      " 11.25265694  9.95103179 13.57074963  9.73575201 13.28133616 14.53367887\n",
      " 11.95977611  9.86401601 12.34667681 11.87040764 13.92700092  9.94140732\n",
      " 11.0052127  13.39481557 12.76216629 13.17079036 14.41984571 11.36280443\n",
      " 12.68964438 11.08151746 12.84978079 13.53610519 12.43019832 12.12137665\n",
      " 11.18661049 12.34667681 13.15173103 11.26694663 10.70250589 13.65468386\n",
      " 11.99596773 11.20391821 16.86157704 13.26715083 13.86752866 11.77621439\n",
      " 10.26734729 11.75155756 10.48157198 13.62795055 10.43666074 16.86157704\n",
      " 16.44483745 11.51072496 11.67599567 13.53961239  9.5456458  11.93831033\n",
      " 10.46462275 12.75323534 10.13676911 12.3138337  13.72804685 11.57788889\n",
      "  9.11042208  7.76947803 14.34885815 14.7574938  14.26601819 10.68419057\n",
      "  9.20512084 13.63070253 13.09545143 14.05978617 11.97412741 12.06533889\n",
      "  9.69958538 16.65773564 14.43065797 11.64612785 14.51370479 12.77255401\n",
      " 11.3287692  14.48150011 15.29183631 14.53367887 11.39674719 10.11238726\n",
      " 10.84113035 11.70173333 12.56435607 14.3531602  12.29789316 13.53363054\n",
      " 13.51764899 12.48515847 13.63754432 10.92244164  8.1535971  13.16447565\n",
      " 14.18799702 10.26575398 15.4639411  10.58288264 13.44430035 10.60169075\n",
      " 11.71600175 10.61691613 11.83604758 16.30121164 12.87702275 13.43838086\n",
      " 12.52595905 11.6651837  12.90412139 10.63980269  6.42561709 12.28572379\n",
      " 12.70906016  9.10491667  9.93328595 10.3729636  10.67264161 11.72214038\n",
      " 10.75708006 12.94011063 13.9822115  14.58871674 10.20154329 10.55311496\n",
      " 12.09880939  8.77025138 11.8057307  11.39357026 12.16165978 12.11717532\n",
      " 13.01808007 11.40348547  9.93565196 12.54622941  8.82405904  8.91172156\n",
      " 12.06575371 12.68964438 12.74697539 11.53856905 12.94986543 10.99875182\n",
      " 10.34619679 13.2589546  10.1961859  13.29636539 12.70906016 12.0006785\n",
      " 11.51072496  8.68295022 12.35095235  9.99216452 12.02643201 14.83134135\n",
      " 15.72788597 14.72296464 10.54352337 14.10076579 14.53311583  8.74058605\n",
      " 12.24917044 12.85187884 14.18015524 12.182541   12.56435607 12.33001227\n",
      " 13.557347   12.38506086 11.79193962 10.54694495 10.4897656  14.69482735\n",
      " 13.0948024  16.30121164 10.58649536 14.48150011 10.76346728 11.89527352\n",
      " 11.71801248 13.03945208  8.17847373 13.82173465 11.80954964 12.75768925\n",
      " 13.43838086 13.09787345 13.62795055 13.36965601 12.08816587 11.91957627\n",
      " 12.27984524 10.90703003 11.10404871 12.85474929 12.00017697 12.21422527\n",
      " 10.20290597 14.79909792 11.2780235  11.74644434 13.72361947 11.32963764\n",
      " 12.78649717 13.73471725 11.77889541  9.56515353 11.89527352 14.32072354\n",
      " 13.97962341 12.76216629  9.68474729  9.37976113 11.05407907 13.44440436\n",
      " 12.21740592 11.02041718 10.04824196 13.4889822  15.36255809 11.85757686\n",
      " 12.80670987 13.08153345 11.15698363 11.72870255 10.75577571 11.19495241\n",
      " 10.09637003 10.76346728 14.41050847 11.81273116 14.12964183 14.50482021\n",
      "  9.6851136  14.9664447  13.05413902 13.80049561 13.88794197 10.94444254\n",
      " 13.00083598 11.9851342   9.34707646 11.9514836  14.48778648 12.21422527\n",
      " 10.6191449  10.68579716 14.20306731 16.25926932 14.59712163 14.41399543\n",
      "  9.53872927 11.93669237 10.48256451 11.80263636 10.23949293 13.91037747\n",
      "  8.83630302 10.77369771 11.68712156 11.16315417 13.13834475 13.95230386\n",
      " 12.61263181 11.80492109 10.31275267  7.77855043 11.35642754 12.03839206\n",
      " 11.51393935  8.64123773 12.69298936 12.62635465 11.27993951  9.72222222\n",
      " 13.08153345 10.44493758  9.50483148 10.42122237 13.07802354 11.48889829\n",
      " 11.03376208 13.56781679 10.83942625 12.91013986 12.35530831  8.68263173\n",
      " 12.0203227   9.44542151 12.70073642 10.6777593  11.82072981 12.67641807\n",
      " 10.48760769 12.97370224 10.25991017  8.86001164  7.92878097 10.40207787\n",
      " 15.72788597 12.96364119  9.40588217 12.21202    13.34802683 10.61590094\n",
      " 11.7245228  12.13110473  9.47835589 11.5580125  12.42015879 16.25926932\n",
      "  9.51200987 13.9794258  11.19115603 11.43304135 14.40851428 13.45306628\n",
      " 12.99014631 11.83287635 15.29183631 11.26483113 10.21530315  8.5936242\n",
      " 10.16469599  9.82878748 11.82265758 13.26715083 13.31040151 14.54767244\n",
      " 11.44402564  9.09298209  9.17295671 13.38473234 12.87721274 11.98874308\n",
      "  9.91615417  9.4816378  11.63120603 13.73086286 11.67599373  9.06347258\n",
      " 12.3260181  13.9794258   8.96124315 11.80519445 13.64879095 14.58433962\n",
      " 14.3278509  11.40050698 12.29789316  8.9744281   8.71917752 14.07937722\n",
      "  9.41806786 14.64505937  9.89039277 11.66036779 12.12120318 14.67740601\n",
      " 12.02647746 11.77330499  9.11631417  9.7763842  10.74084428 15.69394297\n",
      " 13.51217752 10.95386026 11.75714209 15.13533331 11.4193926  14.09417606\n",
      " 12.16876029 14.9664447  12.34577824 14.89256148 11.4309465  12.26657297\n",
      " 12.81568396 13.56252517 11.91246688 12.55475037 14.54826859 12.99662695\n",
      " 14.27815921 13.84082038 13.77138887 14.07959418 12.84334477 10.64894776\n",
      " 12.8857783  14.26601819 14.49659299 10.23851701  8.81617236 11.57320009\n",
      " 12.23905673 12.06533889 12.82124423  8.68759091 12.58334481  8.55369191\n",
      "  9.26079429  9.45632259 11.00533729 14.05177216 10.12953214 11.52830303\n",
      " 10.25038009 12.87691861 12.33001227 14.2897219  12.54376339  9.56515353\n",
      " 13.04874698 14.20085097 10.4177322  15.21197115 14.74096261 13.28133616\n",
      " 10.78293354 11.52725419 15.36255809 12.74926248  8.93586616 13.02956245\n",
      " 11.58239944 10.47523485 10.83982732 10.81862993 11.98667074 12.2068172\n",
      " 12.0357346  11.08312685 13.38102225 11.95812264 12.06575371 12.52595905\n",
      " 12.51490527 10.06410624  6.58090909 14.090871   11.70999729 12.42694103\n",
      " 10.76606627 11.70779932 14.72071609 11.83604758 11.42704201 12.06151515\n",
      " 15.47566332 13.4416946  10.00204853 11.91865848 12.67710702 11.40273698\n",
      " 11.91550044 11.74099773 11.2935203  12.170419   11.57250834  9.93903913\n",
      " 13.86752866 13.4889822  11.28648338 13.61575326 15.6875     11.22952687\n",
      " 14.75077017 14.74096261 11.09519408 14.34963339 10.49922365  7.61986612\n",
      "  8.08725    12.12120318 12.71683802 11.25617725 11.84178152 11.53980487\n",
      " 15.08749475 12.30672903 12.79093848 14.85967991 12.895032   12.53246457\n",
      " 11.00665192 12.94814156  9.93972669 14.67641101 13.64784018 11.28062211\n",
      " 12.2737616  13.97280841 12.51490527 11.24340661 11.76052316  9.64094914\n",
      " 12.06417058 12.41086524 13.07800094 11.23845527 12.170419    9.97809646\n",
      "  9.75382708 14.05978617 11.39357026 12.96850863 10.29313123  8.29902729\n",
      " 11.80519445 12.20740845 11.68712156 12.16470416 12.16601422 12.79458608\n",
      " 11.03740967 10.54602361 10.11105201  9.94098096 12.30517881  7.81200135\n",
      " 10.08626208 10.58288264 15.02822962 12.35530831 10.6967465  14.22331296\n",
      " 10.77369771 11.89183232 11.93551633 15.94789628 10.20154329 10.96411972\n",
      " 13.23164819 12.20266667 12.68381503 13.70103912 10.5479322  11.57320009\n",
      "  8.30188221 14.18799702  8.69952738 13.53610519  8.94273124 13.29636539\n",
      " 13.26951749 10.80207359 14.03476587 10.0668931  11.72866236 10.20290597\n",
      " 13.1280351  12.8857783  11.87254479 15.64320394 13.06625    11.06140424\n",
      " 11.60720929 12.30785449 15.40301091 12.02643201 12.75959149 13.93721937\n",
      " 11.42785152 15.6620287   8.20287211 13.88813407 13.98424415 12.87763603\n",
      " 11.46404429  9.14173351 11.28234352  9.56755751 11.53856905  8.69952738\n",
      " 10.12844838 12.3202287  14.09417606 11.12207316 13.46133043  8.27342885\n",
      " 12.71243837 13.20298406 13.23164819 11.04914088 12.32303898 12.91635598\n",
      " 12.43675983 10.67264161 12.04441528 12.25926815 11.24336446 14.11741437\n",
      " 16.09020047  8.38729925 12.82856812  8.68573792 10.01706301 11.41654998\n",
      " 10.32821752 10.09637003 14.78788117 11.85190027 11.71407081 11.4309465\n",
      " 15.7788394  11.77889541 12.86012312 11.99596773 11.3045892  12.07664278\n",
      "  9.69403428 13.95450242 11.76052316 13.06753267 12.13028275 11.0687655\n",
      " 14.29698732 14.51983132 12.43708321 10.51365091 15.25556187  9.93903913\n",
      " 11.82526316 13.10427059  8.63832665 12.78896807 11.1763168  12.02926162\n",
      " 11.12810414 11.55120245 11.67471001 13.84120466 11.40262947 12.2068172\n",
      " 12.53823939 10.48157198 14.23739598 10.39183017 13.74341087 11.27504959\n",
      " 11.79453365 12.26479634 11.96991693 12.96181381 11.3956375  11.65457147\n",
      " 12.11036836 12.92371773 15.77371688 15.22885628 10.66202814 11.8970753\n",
      " 10.43666074 12.3229987  12.71849639  9.86401601 13.44718231 12.20927972\n",
      " 11.98069908 12.07664278  8.93586616  9.32768126 14.29698732 11.6883474\n",
      "  9.43478141 10.52568438 11.9514836  14.01849982 13.20440463 15.66263211\n",
      " 11.91806122 11.37744919 11.29388244 11.86202767 11.3814974  12.94986543\n",
      " 12.71226871 11.10404871  9.60009178 10.6777593  15.05555066]\n"
     ]
    }
   ],
   "source": [
    "y_train_pred_n = pipe_n.predict(X_train_n)\n",
    "print(f\"Predictions on training data: {y_train_pred_n}\")"
   ]
  },
  {
   "cell_type": "markdown",
   "id": "c86aef56",
   "metadata": {
    "papermill": {
     "duration": 0.17459,
     "end_time": "2022-02-15T13:21:36.570534",
     "exception": false,
     "start_time": "2022-02-15T13:21:36.395944",
     "status": "completed"
    },
    "tags": []
   },
   "source": [
    "# 2. Predict test data"
   ]
  },
  {
   "cell_type": "code",
   "execution_count": 59,
   "id": "927fdd1f",
   "metadata": {
    "execution": {
     "iopub.execute_input": "2022-02-15T13:21:36.930544Z",
     "iopub.status.busy": "2022-02-15T13:21:36.929510Z",
     "iopub.status.idle": "2022-02-15T13:21:36.956893Z",
     "shell.execute_reply": "2022-02-15T13:21:36.957422Z",
     "shell.execute_reply.started": "2022-02-15T12:32:22.386891Z"
    },
    "papermill": {
     "duration": 0.210555,
     "end_time": "2022-02-15T13:21:36.957615",
     "exception": false,
     "start_time": "2022-02-15T13:21:36.747060",
     "status": "completed"
    },
    "tags": []
   },
   "outputs": [
    {
     "name": "stdout",
     "output_type": "stream",
     "text": [
      "Predictions on test data: [10.90870297 12.3420182  14.51370479 13.82173465 15.64320394  9.91212771\n",
      " 12.81568396 10.07305675 13.59630385 13.53363054 11.07353207 13.06950638\n",
      " 13.11528589 13.86613376 11.81279626 12.33886596 13.15173103  8.90437474\n",
      " 13.32775687 11.6883474  12.5893661   9.89536546 12.63318293 13.85851754\n",
      " 14.23610143  9.1649641  11.91538736 12.80420659 12.08816587 12.85001575\n",
      " 10.62324486 12.2808339  11.4760078  10.7474878  11.86202767 11.75387311\n",
      "  9.37844102 10.89690941 14.72665504 13.69485743 12.52515668 11.31133958\n",
      "  9.90846126 12.40869514 12.92371773 13.2470388  13.13834475  6.60090909\n",
      " 13.00035503 10.25117857 13.72804685 12.95702431  9.11855123 12.86346247\n",
      " 15.21197115 11.67251276 11.5580125  12.8122281  13.99498383 14.63337846\n",
      " 13.57437164 15.06371564 12.9142178  12.14663972 13.67462144 13.88813407\n",
      " 12.50461981 10.50973784 12.2553106  12.32683908  9.33101218 14.27495727\n",
      " 12.16006806 11.89465855 10.12655786  9.80640922 12.99266243 11.13064124\n",
      " 10.76606627 12.78873319  9.18898423 13.06753267 12.00232562  9.90679279\n",
      " 12.68680864 12.8718913  10.96411972 12.06151515 12.48655953 14.75486872\n",
      " 11.89183232 10.95865549 12.41951884  9.68474729 11.29561017 12.10562568\n",
      " 13.75899734 13.05263832 12.13178785 12.12134074  9.75608563 13.20440463\n",
      " 11.16383782 10.26346154 12.74973926 11.47229588 12.99124527 13.49717036\n",
      " 12.93450026 13.0948024  12.33886596 14.38163196 12.25701234 10.05837121\n",
      " 11.42785152 12.84636203 10.26006492 12.23673006 12.18652681 13.16239006\n",
      " 12.36765559  9.95243932 13.63533876 11.84153594 14.67246445 12.55272787\n",
      " 13.32283794 12.99891669 15.6875     14.07959418 10.76962573 12.55465274\n",
      " 11.53669583 13.090385   11.75387311 11.84516284 12.67414993  9.28559387\n",
      " 10.12827289  9.9382298  10.10595721 11.96494353 13.62313806 10.40207787\n",
      " 11.86712553 12.02787978  9.89039277  8.1535971  15.13533331 10.97343495\n",
      " 11.76938911 12.84939788 11.83150891 10.42649467 12.58334481 11.74043293\n",
      " 12.48274693 11.06128407 13.43914541  9.59078801 14.1192412  11.84516284\n",
      " 13.80370834 10.70250589 13.55369895 10.63642315 10.051      11.08151746\n",
      " 11.16250605 11.25613999 12.56281102 12.38506086 12.895032   11.16315417\n",
      " 13.22737231 12.61454796 10.55916876 10.08237854 10.36907566 13.80049561\n",
      " 13.93697299 13.69564344 10.08543975 12.50236398 11.19431181 10.65743833\n",
      " 13.91037747 10.81109536 10.29658056  9.03116202 11.43304135 11.64291482\n",
      " 10.03791116  9.07628968 13.04302573 13.41380528 10.75577571  9.94555037]\n"
     ]
    }
   ],
   "source": [
    "y_test_pred_n = pipe_n.predict(X_test_n)\n",
    "print(f\"Predictions on test data: {y_test_pred_n}\")"
   ]
  },
  {
   "cell_type": "markdown",
   "id": "d2b65b98",
   "metadata": {
    "papermill": {
     "duration": 0.175853,
     "end_time": "2022-02-15T13:21:37.309001",
     "exception": false,
     "start_time": "2022-02-15T13:21:37.133148",
     "status": "completed"
    },
    "tags": []
   },
   "source": [
    "# 2. Check r square value of Random Forest"
   ]
  },
  {
   "cell_type": "code",
   "execution_count": 60,
   "id": "36198645",
   "metadata": {
    "execution": {
     "iopub.execute_input": "2022-02-15T13:21:37.666264Z",
     "iopub.status.busy": "2022-02-15T13:21:37.665315Z",
     "iopub.status.idle": "2022-02-15T13:21:37.668722Z",
     "shell.execute_reply": "2022-02-15T13:21:37.669307Z"
    },
    "papermill": {
     "duration": 0.185426,
     "end_time": "2022-02-15T13:21:37.669496",
     "exception": false,
     "start_time": "2022-02-15T13:21:37.484070",
     "status": "completed"
    },
    "tags": []
   },
   "outputs": [
    {
     "name": "stdout",
     "output_type": "stream",
     "text": [
      "r2_n score for a  model is 0.38558625554194637\n"
     ]
    }
   ],
   "source": [
    "r2_n = r2_score(y_test_n, y_test_pred_n)\n",
    "print('r2_n score for a  model is', r2_n)"
   ]
  },
  {
   "cell_type": "markdown",
   "id": "d0be7710",
   "metadata": {
    "papermill": {
     "duration": 0.176418,
     "end_time": "2022-02-15T13:21:38.021079",
     "exception": false,
     "start_time": "2022-02-15T13:21:37.844661",
     "status": "completed"
    },
    "tags": []
   },
   "source": [
    "# Infrence\n",
    "\n",
    "--------------------------\n",
    "\n",
    "- Random forest is performing better as compare to linner regression.\n",
    "- r2 score is too less for making prediction\n",
    "- G1 and G2 high correlated with Target - using any one one them lead to increase in beterment of model."
   ]
  }
 ],
 "metadata": {
  "kernelspec": {
   "display_name": "Python 3",
   "language": "python",
   "name": "python3"
  },
  "language_info": {
   "codemirror_mode": {
    "name": "ipython",
    "version": 3
   },
   "file_extension": ".py",
   "mimetype": "text/x-python",
   "name": "python",
   "nbconvert_exporter": "python",
   "pygments_lexer": "ipython3",
   "version": "3.7.12"
  },
  "papermill": {
   "default_parameters": {},
   "duration": 65.509248,
   "end_time": "2022-02-15T13:21:39.209950",
   "environment_variables": {},
   "exception": null,
   "input_path": "__notebook__.ipynb",
   "output_path": "__notebook__.ipynb",
   "parameters": {},
   "start_time": "2022-02-15T13:20:33.700702",
   "version": "2.3.3"
  }
 },
 "nbformat": 4,
 "nbformat_minor": 5
}
